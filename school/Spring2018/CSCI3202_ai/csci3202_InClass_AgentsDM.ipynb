{
 "cells": [
  {
   "cell_type": "markdown",
   "metadata": {},
   "source": [
    "# CSCI 3202, Spring 2018\n",
    "\n",
    "# Friday 2 February 2018\n",
    "\n",
    "# In-class notebook:  Search and decision-making\n",
    "\n",
    "<a id='top'></a>\n",
    "\n",
    "<br>\n",
    "\n",
    "### Your name(s): Anthony Tracy, and Cody <- I forgot his last name sorry.\n",
    "\n",
    "<br>\n",
    "\n",
    "* When you submit this to Moodle (under Quizlet 3), be sure to include all of your group members' names.\n",
    "* You may work in groups of up to 3 people,\n",
    "* but **all people** in the group must submit the assignment on their own Moodle account (because Moodle is a pain in the ass to create groups and this will still be faster than your normal quizlets).\n",
    "* There are two unrelated problems. It does not matter in which order you tackle them.\n",
    "  * Problem 1:  Roomba Agents.  We will code up an increasingly realistic Roomba AI. (Problem 0 is the set up)\n",
    "  * Problem 2:  Decision Analysis.  We will have a close look at a seemingly trivial decision.\n",
    "\n",
    "---\n",
    "\n",
    "Shortcuts:  [Top](#top) || [0](#p0) || [1](#p1) | [1a](#p1a) | [1b](#p1b) | [1c](#p1c) | [1d](#p1d) || [2](#p2) | [2a](#p2a) | [2b](#p2b) | [2c](#p2c) | [2d](#p2d) | [2e](#p2e) | [2f](#p2f) | [2g](#p2g)"
   ]
  },
  {
   "cell_type": "markdown",
   "metadata": {},
   "source": [
    "Before you begin, load the packages below (you might find they are handy)"
   ]
  },
  {
   "cell_type": "code",
   "execution_count": 42,
   "metadata": {
    "collapsed": true
   },
   "outputs": [],
   "source": [
    "import numpy as np\n",
    "import matplotlib.pyplot as plt\n",
    "from matplotlib import colors\n",
    "from scipy import stats"
   ]
  },
  {
   "cell_type": "markdown",
   "metadata": {},
   "source": [
    "<br>\n",
    "\n",
    "---\n",
    "\n",
    "## Problem 0\n",
    "\n",
    "<a/ id='p0'></a>\n",
    "\n",
    "#### Set up and representing the task environment\n",
    "\n",
    "Let's design some worlds! Specifically, we want to represent things like a brave knight searching a cave for treasure, or a puppy running around a park, or a Roomba cleaning up a messy house.\n",
    "\n",
    "This initial part (Problem 0) is going to have a lot of text. But I swear it is worth reading through, because the next few problems will build off of this generic task environment framework.\n",
    "\n",
    "**Final note:** Many of these problems are intentionally open-ended. Part of the point is to get some practice designing objects, specifically to represent things that are much more overtly \"AI\" than search algorithms. But (in my view) much more of the point is to **exercise the creative side of programming**. If there was only one answer, it wouldn't be nearly as much fun. \n",
    "\n",
    "<br>"
   ]
  },
  {
   "cell_type": "markdown",
   "metadata": {},
   "source": [
    "First, let's set up some generic classes to represent `Environment`, `Agent` and `Thing`. We have a bunch of methods defined for an `Environment`, all based on what we imagine our needs might be for having an agent running around in the environment, picking things up (vacuuming, eating, holding,...) and putting them back down (a vacuum being full and spitting dirt back out, a puppy putting a bone down so it can drink water,...).\n",
    "\n",
    "The first 3 methods are used to set up the environment, and populate it with things, or remove things from it:\n",
    "* constructor: we feed in the dimensions of a square grid environment, and subtract 1 from each to account for the fact that Python is 0-based, but we are sending in the number of tiles in each direction. The lower-left corner of the environment is assumed to be (0,0). The environment can also have `things` and `agents` in it, so we create a list for each of those.\n",
    "* `add_thing`: we want to be able to add things to the environment. Later, we will look at creating a class to represent `Thing`s.  We need as input to this a Thing and its location (Cartesian coordinates).\n",
    "* `remove_thing`: we might need to remove some things from the environment. \n",
    "\n",
    "The next 3 methods are useful for representing agents' **sensors**. Namely, we are concerned about whether or not the agent can sense things at or near the agent.\n",
    "* `things_near`: we might be interested to know what are all the things in the tiles *adjacent* to the agent's location (as well as at the agent's location), so we return this as a list.\n",
    "* `things_at`: perhaps we have an agent that can only sense what is going on in its location (otherwise, the same as `things_near`)\n",
    "* `percepts`: by default in this generic `Environment` class, the agents will be able to perceive anything *near* them. We can override this later depending on if we think our agent should be able to sense more or less.\n",
    "\n",
    "We have 3 methods to represent the agent moving through a 2D rectangular grid environment, as well as executing a couple other generic **actions**.\n",
    "* `hit_wall`: we know the boundaries of the environment, so if the agent tries to move outside of them, we need to let it know that it has bumped into a wall\n",
    "* `move`: the agent tries to execute a move\n",
    "* `execute_action`: here is the meat and cheese of the agent's actuators. In this generic class, we allow the agent to move in any of the four cardinal directions, as well as pick things up (`Grab`) and set things down (`Drop`).\n",
    "\n",
    "Finally, we need a few more methods to define how the actual simulation for the task environment is to proceed.\n",
    "* `is_done`: returns True if there are no more \"living\" agents to simulate\n",
    "* `step`: executes a single time step of the environment: the agent senses the environment, and then acts. This method by default is assuming a single agent, but we could override this to make it more general. You will notice that the `step` method is where we print output to the screen to stay apprised of what is going on in our virtual world.\n",
    "* `driver`: this is the driver method, which takes as an argument the number of time steps to run (default is 5).\n"
   ]
  },
  {
   "cell_type": "code",
   "execution_count": 2,
   "metadata": {
    "collapsed": true
   },
   "outputs": [],
   "source": [
    "class Environment:\n",
    "\n",
    "    def __init__(self, width, height):\n",
    "        self.width = width-1    # relative to 0, so subtract 1\n",
    "        self.height = height-1\n",
    "        self.things = []\n",
    "        self.agents = []\n",
    "\n",
    "    #\n",
    "    # The following 2 methods allow us to add Things or remove Things from the environment\n",
    "    #\n",
    "    \n",
    "    def add_thing(self, thing, location):\n",
    "        '''Add a thing to the environment and set its location.\n",
    "        For convenience, if thing is an agent program we make a new agent for it.'''\n",
    "        # first, check if the desired location is in-bounds\n",
    "        out_of_bounds = (location[0] > self.width or location[0] < 0 or\n",
    "                         location[1] > self.height or location[1] < 0)\n",
    "        if out_of_bounds:\n",
    "            print('Warning: failed to add {} object at {}'.format(thing.__class__.__name__, location))\n",
    "            return\n",
    "\n",
    "        if not isinstance(thing, Thing):\n",
    "            thing = Agent(thing)\n",
    "        thing.location = location\n",
    "        self.things.append(thing)\n",
    "        if isinstance(thing, Agent):\n",
    "            self.agents.append(thing)\n",
    "\n",
    "    def remove_thing(self, thing):\n",
    "        if thing in self.things:\n",
    "            self.things.remove(thing)\n",
    "            return True\n",
    "        elif thing in self.agents:\n",
    "            self.agents.remove(thing)\n",
    "            return True\n",
    "        else:\n",
    "            return False\n",
    "\n",
    "    #\n",
    "    # The next 3 methods set up the agent's perception of things around it (SENSORS)\n",
    "    #\n",
    "    \n",
    "    def things_near(self, location):\n",
    "        '''return all things around the given location'''\n",
    "        things = []\n",
    "        for thing in self.things:  \n",
    "            # look within a radius of 1 around the agent; on Cartesian grid, \n",
    "            # this will only return the Things at the adjacent squares\n",
    "            # NOTE: if you wanted to let the agent have great vision/better sensors, this\n",
    "            #       could be modified\n",
    "            if np.sqrt( (thing.location[0]-location[0])**2 + (thing.location[1]-location[1])**2) <= 1:\n",
    "                things.append(thing)\n",
    "        return things\n",
    "    \n",
    "    def things_at(self, location):\n",
    "        '''return all things at the given location'''\n",
    "        things = []\n",
    "        for thing in self.things:        # So only append things that are on our location, changing this \n",
    "            if thing.location==location: # will give us better 'sensors'\n",
    "                things.append(thing)\n",
    "        return things\n",
    "    \n",
    "    def percepts(self, agent):\n",
    "        '''the agent can perceive things N/S/E/W of their location'''\n",
    "        return self.things_near(agent.location) # Or just running this function for wherever our sensors \"Should\" see\n",
    "\n",
    "    #\n",
    "    # The next 3 methods set up how the agent can interact with the environment (ACTUATORS)\n",
    "    #\n",
    "    \n",
    "    def hit_wall(self, location):\n",
    "        '''hit a wall/boundary if the agent tries to go out of bounds'''\n",
    "        return (location[0] > self.width or location[0] < 0 or location[1] > self.height or location[1] < 0)\n",
    "        \n",
    "    def move(self, agent, direction):\n",
    "        '''get the new agent location, but revert to old if it bumps into boundary'''\n",
    "        locx, locy = agent.location\n",
    "        if direction=='N':\n",
    "            newLocation = locx, locy+1    \n",
    "        elif direction=='S':\n",
    "            newLocation = locx, locy-1\n",
    "        elif direction=='E':\n",
    "            newLocation = locx+1, locy\n",
    "        elif direction=='W':\n",
    "            newLocation = locx-1, locy\n",
    "        bump = self.hit_wall(newLocation)\n",
    "        agent.location = newLocation if not bump else location\n",
    "        return (not bump)\n",
    "            \n",
    "    def execute_action(self, agent, action):\n",
    "        if action in ['N','S','E','W']:\n",
    "            bump = self.move(agent, action)\n",
    "        elif action == 'Grab':\n",
    "            things = [thing for thing in self.things_at(agent.location)]\n",
    "            if things:\n",
    "                agent.holding.append(things[0])\n",
    "                self.remove_thing(things[0])\n",
    "        elif action == 'Drop':\n",
    "            if agent.holding:\n",
    "                dropped = agent.holding.pop()\n",
    "                self.add_thing(thing=dropped, location=agent.location)\n",
    "\n",
    "    #\n",
    "    # These last 3 methods set up how the simulation for the task environment will be run\n",
    "    #\n",
    "    \n",
    "    def is_done(self):\n",
    "        '''end the simulation if there are no living agents (or end of time steps)'''\n",
    "        return not any(agent.is_alive() for agent in self.agents)\n",
    "\n",
    "    def step(self, quiet):\n",
    "        '''run one time step of the environment; assumes a single agent'''\n",
    "        if not self.is_done():\n",
    "            # assuming a single agent here!\n",
    "            agent = self.agents[0]\n",
    "            action = agent.function(self.percepts(agent))\n",
    "            if not quiet:\n",
    "                print('Agent {} executes action {} at location {}'.format(agent.name, action, agent.location))\n",
    "            self.execute_action(agent, action)\n",
    "\n",
    "    def driver(self, n_steps=5, quiet=False):\n",
    "        '''a driver method to run the environment for n_steps time steps\n",
    "        quiet=True will suppress output to screen to update (helpful for long simulations)'''\n",
    "        for step in range(n_steps):\n",
    "            self.step(quiet)"
   ]
  },
  {
   "cell_type": "markdown",
   "metadata": {},
   "source": [
    "Okay, you've made it this far. You deserve a reward.  Here's a picture of a baby sloth wearing pajamas and taking a selfie.\n",
    "\n",
    "<img src=\"https://i.pinimg.com/736x/bc/4b/4c/bc4b4c4c01a6a82d8991524c9f41f6ce--pajamas-pjs.jpg\" style=\"width: 200px;\"/>\n",
    "\n",
    "\n",
    "Now then. We should define some generic classes for `Thing`s and `Agent`s.  We can consider an `Agent` to be a subclass of `Thing`, since it is just a special case of general objects that we are putting in our environment.\n",
    "\n",
    "Our generic `Thing` class is pretty sparse. Basically, we are going to throw down some objects and declare whether or not they are alive. It serves as a basis for representing other things later that we can add other useful attributes to."
   ]
  },
  {
   "cell_type": "code",
   "execution_count": 3,
   "metadata": {
    "collapsed": true
   },
   "outputs": [],
   "source": [
    "class Thing:\n",
    "    '''represent things in the environment'''\n",
    "    \n",
    "    def __init__(self):\n",
    "        pass\n",
    "        \n",
    "    def is_alive(self):\n",
    "        '''is this thing alive?'''\n",
    "        return hasattr(self, 'alive') and self.alive"
   ]
  },
  {
   "cell_type": "markdown",
   "metadata": {},
   "source": [
    "Finally, we can create an `Agent` as a subclass of `Thing`.  We should provide a **name** for our agents, and an **agent function**.  Recall that the agent function is what is \"doing the AI\". That is, the agent function takes as input the percepts, and provides as output the appropriate agent actions to take.\n",
    "\n",
    "Note that in case an agent function argument is not provided, we have a nice default course of action for a listless agent. There is also an attribute of the agent to store its `performance` measure, once we decide how to evaluate that."
   ]
  },
  {
   "cell_type": "code",
   "execution_count": 4,
   "metadata": {
    "collapsed": true
   },
   "outputs": [],
   "source": [
    "class Agent(Thing):\n",
    "    \n",
    "    def __init__(self, name, agent_function=None):\n",
    "        self.alive = True\n",
    "        self.name = name\n",
    "        self.holding = []\n",
    "        self.performance = 0\n",
    "        if agent_function is None:\n",
    "            print('Warning: Agent {} missing agent_function. Using a silly default.'.format(self.name))\n",
    "            \n",
    "            def agent_function(percepts):\n",
    "                '''Only move left. It is the finest direction, after all.\n",
    "                Note that this only is run if the user does not supply a valid agent_function'''\n",
    "                return 'W'\n",
    "\n",
    "        self.function = agent_function"
   ]
  },
  {
   "cell_type": "markdown",
   "metadata": {},
   "source": [
    "<br>\n",
    "\n",
    "---\n",
    "\n",
    "[Back to top](#top)\n",
    "\n",
    "<br>\n",
    "\n",
    "<img src=\"http://www.irobotweb.com/-/media/Images/Product-Pages/Roomba-Learn/Mini-Compare/960-Product-Image.png?h=292&la=en&w=286\" alt=\"Drawing\" style=\"width: 120px;\"/>\n",
    "\n",
    "<a/ id='p1'></a>\n",
    "## Problem 1:  Let's talk Roombas.\n",
    "\n",
    "The generic `Environment`/`Thing`/`Agent` set-up above is a pretty nice framework for tackling a variety of problems, but we will need to override a few components of it to make this function well for the specific task environment of a Roomba cleaning up a dirty room.\n",
    "\n",
    "First, let's create a **simple reflex agent**, `ReflexRoombaAgent`, method.  This function will take in an argument **name**, representing the agent's name.  Then, an `agent_function` is defined.  This is the most problem-specific part.  The `agent_function` below is specific to our simple two-tile environment that we will play around with initially.  Later, we will modify and extend this to larger rooms, and to other problems.\n",
    "\n",
    "After defining the `agent_function`, the `ReflexRoombaAgent` constructs an `Agent` object using the generic template above, but with Roomba-specific programming (i.e., `agent_function`)."
   ]
  },
  {
   "cell_type": "code",
   "execution_count": 5,
   "metadata": {
    "collapsed": true
   },
   "outputs": [],
   "source": [
    "def ReflexRoombaAgent(name):\n",
    "    '''reflex Roomba agent. Takes percept as input, which is a tuple of (location, status)\n",
    "    and returns the appropriate action. This will override the default in the Agent class of \n",
    "    only moving West'''\n",
    "    def agent_function(percepts):\n",
    "        location, status = percepts\n",
    "        if status == 'Dirty':\n",
    "            return 'Vacuum'\n",
    "        elif location == (0,0):\n",
    "            return 'E'\n",
    "        elif location == (1,0):\n",
    "            return 'W'\n",
    "        \n",
    "    return Agent(name, agent_function)        "
   ]
  },
  {
   "cell_type": "markdown",
   "metadata": {},
   "source": [
    "This Roomba is going to need some `Thing`s to clean up - namely, dirt! So let's create a subclass of `Thing` to represent dirt. If you haven't seen or used the `pass` statement in Python, it is just a placeholder when there needs to be *some*thing in that line, since Python syntax relies on whitespace. (Otherwise, we wouldn't know when to end the definition for the Dirt class.)"
   ]
  },
  {
   "cell_type": "code",
   "execution_count": 6,
   "metadata": {
    "collapsed": true
   },
   "outputs": [],
   "source": [
    "class Dirt(Thing):\n",
    "    pass"
   ]
  },
  {
   "cell_type": "markdown",
   "metadata": {},
   "source": [
    "Now that we have a Roomba and Dirt, specific to our vacuum task environment, let's make the `Environment` a bit more problem-specific.  The agent interacts with the environment through percepts and actuators, so we will need to override those defaults from the main Environment class. \n",
    "\n",
    "For `percepts`, we will assume that the agent can sense (1) its location and (2) whether that location is clean or dirty.  `percepts` takes as the argument the **agent**, and returns a tuple of (**location**, **status**).  Note that the actual \"sensing\" is done by the `Environment` method `things_at(location)`. That line checks whether or not any of the `things_at` the agent's location are of class Dirt. Note that it is possible to have multiple instances of Dirt in  given location, which could reflect the fact that in real life, sometimes our house is just really gross.\n",
    "\n",
    "For actuators, the generic `execute_action` method is almost good enough. We can override the `Grab` action with something more meaningful to our application.  Let's rename that as `Vacuum`, and call the things we want to grab `messes`.\n",
    "\n",
    "We only want the Roomba to pick up things that are Dirt (ideally), so we add the condition `if isinstance(thing, Dirt)`.  Notice that the Roomba will only pick up the *first* unit of dirt that it senses. This reflects the reality that if a tile is *really* dirty, it should take the Roomba longer to clean it up than a just mildly dirty tile.\n",
    "\n",
    "Notice that we also store in Roomba's `holding` attribute all of the different units of dirt that it has picked up. Later, we will generalize this problem so that Roomba can only store a finite amount of dirt, which is of course how real vacuums work."
   ]
  },
  {
   "cell_type": "code",
   "execution_count": 7,
   "metadata": {
    "collapsed": true
   },
   "outputs": [],
   "source": [
    "class VacuumEnvironment(Environment):\n",
    "            \n",
    "    def percepts(self, agent):\n",
    "        ''' the percept is a tuple of (location, status) '''\n",
    "        status = 'Dirty' if any([isinstance(item, Dirt) \n",
    "                                 for item in room.things_at(location=agent.location)]) else 'Clean'\n",
    "        return (agent.location, status)\n",
    "\n",
    "    def execute_action(self, agent, action):\n",
    "        ''' override the default execute_action in Environment class, so that\n",
    "        for the Roomba we remove '''\n",
    "        if action in ['N','S','E','W']:\n",
    "            bump = self.move(agent, action)\n",
    "        elif action == 'Vacuum':\n",
    "            messes = [thing for thing in room.things_at(roomba.location) if isinstance(thing, Dirt)]\n",
    "            if messes:\n",
    "                agent.holding.append(messes[0])\n",
    "                self.remove_thing(messes[0])\n",
    "        elif action == 'Drop':\n",
    "            if agent.holding:\n",
    "                dropped = agent.holding.pop()\n",
    "                self.add_thing(thing=dropped, location=agent.location)"
   ]
  },
  {
   "cell_type": "markdown",
   "metadata": {},
   "source": [
    "<br>\n",
    "\n",
    "<a/ id='p1a'></a>\n",
    "### (1a)\n",
    "\n",
    "#### Enough chit chat. Play time!\n",
    "\n",
    "Create a **room** that is a `VacuumEnvironment` with width=2 and height=1 (i.e., the standard two-tile room from the introductory set of slides where we introduced the concept of agents). Notice that the Cartesian coordinates of the tiles are (0,0) and (1,0), for a width of 2 and height of 1."
   ]
  },
  {
   "cell_type": "code",
   "execution_count": 8,
   "metadata": {
    "collapsed": true
   },
   "outputs": [],
   "source": [
    "room = VacuumEnvironment(width=2, height=1)"
   ]
  },
  {
   "cell_type": "markdown",
   "metadata": {},
   "source": [
    "If we have a room, and that room can get dirty, we should probably instantiate a `ReflexRoombaAgent`.  Since our `ReflexRoombaAgent` is of class `Agent`, which is a subclass of `Thing`, we will need to use the `add_thing` method to add our Roomba to the **room**.  Here, you can see that we are adding the Roomba to the tile at (0,0).\n",
    "\n",
    "**Most importantly:** Give your Roomba a sweet name."
   ]
  },
  {
   "cell_type": "code",
   "execution_count": 33,
   "metadata": {
    "collapsed": true
   },
   "outputs": [],
   "source": [
    "roomba = ReflexRoombaAgent('roomba1')\n",
    "room.add_thing(roomba, location=(0,0))"
   ]
  },
  {
   "cell_type": "markdown",
   "metadata": {},
   "source": [
    "Finally, to set up the environment, let's sprinkle some dirt around.  In fact, let's set it up so that both tiles are `Dirty`."
   ]
  },
  {
   "cell_type": "code",
   "execution_count": 34,
   "metadata": {
    "collapsed": true
   },
   "outputs": [],
   "source": [
    "room.add_thing(Dirt(), location=(0,0))\n",
    "room.add_thing(Dirt(), location=(1,0))"
   ]
  },
  {
   "cell_type": "markdown",
   "metadata": {},
   "source": [
    "At long last, we are ready to actually run our simulation.  Let's run for 6 time steps."
   ]
  },
  {
   "cell_type": "code",
   "execution_count": 35,
   "metadata": {},
   "outputs": [
    {
     "name": "stdout",
     "output_type": "stream",
     "text": [
      "Agent roomba1 executes action Vacuum at location (0, 0)\n",
      "Agent roomba1 executes action E at location (0, 0)\n",
      "Agent roomba1 executes action Vacuum at location (1, 0)\n",
      "Agent roomba1 executes action Vacuum at location (1, 0)\n",
      "Agent roomba1 executes action Vacuum at location (1, 0)\n",
      "Agent roomba1 executes action Vacuum at location (1, 0)\n"
     ]
    }
   ],
   "source": [
    "room.driver(6)"
   ]
  },
  {
   "cell_type": "markdown",
   "metadata": {},
   "source": [
    "Okay, that looks like it went smoothly.  We should check that everything is working though.  After 6 time steps, the Roomba should have been able to vacuum up the patches of dirt in both tiles.  Then, what does the agent do? Check out the `agent_function` definition to make sure that, after the agent vacuums up all the dirt, it does what you expect.\n",
    "\n",
    "We can also check to make sure the list of things in the room, and the list of what all the Roomba agent is holding, both match our expectations.  What should be left in the room?  What should Roomba be holding?  Design a couple `print` statements to check that our task environment looks the way we expect."
   ]
  },
  {
   "cell_type": "code",
   "execution_count": 12,
   "metadata": {},
   "outputs": [
    {
     "name": "stdout",
     "output_type": "stream",
     "text": [
      "Things left in the room: ['Agent']\n",
      "Things agent is holding: ['Dirt', 'Dirt']\n"
     ]
    }
   ],
   "source": [
    "print('Things left in the room: {}'.format([thing.__class__.__name__ for thing in room.things]))\n",
    "print('Things agent is holding: {}'.format([thing.__class__.__name__ for thing in roomba.holding]))"
   ]
  },
  {
   "cell_type": "markdown",
   "metadata": {},
   "source": [
    "<br>\n",
    "\n",
    "Now that we have a basic Roomba agent in a very simple room, let's start to add in layers of complexity/reality. Each part of the rest of this problem adds another feature or set of features to make our Roomba Agents a bit more like actual Roombas.  By the end of this problem, our \"toy\" Roombas will be pretty similar to actual Roombas.\n",
    "\n",
    "For the next few parts, my approach would be to only modify the Roomba-specific programming from **Problem 1** and beyond; try to leave the stuff in **Problem 0** alone, if you can. The point of the `ReflexRoombaAgent` and `VacuumEnvironment` classes is to take the generic `Agent` and `Environment` classes and apply vacuum-specific methods, as opposed to hard-coding the entire gory mess from (e.g.) the `Environment` class in **Problem 0**. So, instead of jumping back and forth to modify the codes from **1a**, the easiest thing to do to implement these additional code features is probably to begin by copy-pasting, but then giving the new subclasses here new names.\n"
   ]
  },
  {
   "cell_type": "markdown",
   "metadata": {},
   "source": [
    "<br>\n",
    "\n",
    "<a/ id='p1b'></a>\n",
    "### (1b)\n",
    "\n",
    "Also implement the following features. It is probably easiest to do these **one at a time**, to make sure you know which breaks your code if things go off the rails.\n",
    "1. Include a performance measure for the agent to keep track of.  You should decide for yourselves how you want to measure your Roomba's performance. Here are some general guidelines:\n",
    "  * Reward cleanliness\n",
    "  * Penalize excessive moving around\n",
    "1. Implement a model-based agent\n",
    "  * Keep track of which tiles are clean/dirty\n",
    "  * Perhaps use an attribute of the agent called **model** that updates the agent's internal map of where the clean/dirty tiles all are. The entire room is initially unknown.\n",
    "  * For example, if the Roomba agent has just come from cleaning the tile at (0,0), and has now just cleaned the tile at (1,0), then the Roomba ought to know that going straight back to (0,0) is not the best option.\n",
    "  * You may want to add a **NoOp** (\"no operation\" or \"do nothing\") action choice, since moving around unnecessarily will worsen the agent's performance measure.\n",
    "1. Stochastically generate new dirt every so often\n",
    "  * Based on how long it has been since the agent last cleaned a particular tile, it may be necessary to circle back around and check the tiles again for dirt (since it may have appeared stochastically). Thus, the agent will need to track in its model *how long* it has been since it has cleaned each tile.\n",
    "  * It may be useful to print a message to the screen denoting the location of new dirt, if dirt appears somewhere.\n",
    "\n",
    "The following code snippet could implement stochastic dirt appearance with probability `p_dirt` for each tile for each time step.  You are encouraged to modify `p_dirt` as you see fit.  The default here is a 1/10 probability of dirt appearing on any given tile at any given time step, possibly from a puppy with muddy paws or a roommate just returning from a hike.  Note that *all* tiles will need to be updated in this way, and that `p_dirt` is probably most appropriate to specify as an attribute of the environment."
   ]
  },
  {
   "cell_type": "code",
   "execution_count": 36,
   "metadata": {},
   "outputs": [
    {
     "name": "stdout",
     "output_type": "stream",
     "text": [
      "Clean\n",
      "Clean\n",
      "Clean\n",
      "Clean\n",
      "Clean\n",
      "Clean\n",
      "Clean\n",
      "Clean\n",
      "Clean\n",
      "Clean\n",
      "Clean\n",
      "Clean\n",
      "Clean\n",
      "Clean\n",
      "Clean\n"
     ]
    }
   ],
   "source": [
    "p_dirt = 0.1\n",
    "for i in range(15):\n",
    "#updateStatus = np.random.choice(['Clean','Dirty'], p=[1-p_dirt, p_dirt])\n",
    "    print(np.random.choice(['Clean','Dirty'], p=[1-p_dirt, p_dirt]))\n",
    "        \n",
    "# Create a new enviroment here later:\n",
    "\n"
   ]
  },
  {
   "cell_type": "code",
   "execution_count": 41,
   "metadata": {},
   "outputs": [],
   "source": [
    "def ReflexRoombaAgent(name):\n",
    "    '''reflex Roomba agent. Takes percept as input, which is a tuple of (location, status)\n",
    "    and returns the appropriate action. This will override the default in the Agent class of \n",
    "    only moving West'''\n",
    "    model={}\n",
    "    def agent_function(percepts):\n",
    "        location, status_known = percepts # It's a roomba, this should only see the location it is at.\n",
    "        # Always add status to the model:\n",
    "        # So this model is just going to be the memory of the roomba I guess:\n",
    "        # For the moment I am using 2 simplifying assumptions:\n",
    "        #   1. The Roomba has inf gas\n",
    "        #   2. The Roomba has inf trash bin space\n",
    "        #      - I aim to remove these and add this to the model later.\n",
    "        # So for the model:\n",
    "        # - I need everything to be equivalent to inf until I have seen it, cleaned it.\n",
    "        #   - Once it has been cleaned, it will gain a counter. Since the p_dirt is 0.1, each tile viewed will\n",
    "        #     gain a 10% increment in probability of dirty.\n",
    "        #   - The model will explore the inf first off unless it sees something greater than a p_thresh.\n",
    "        #     - The point of this is to get the roomba to first explore the room, but to not choose an unknown\n",
    "        #       location over a highly likely dirty location.\n",
    "        #     - The roomba should explore but also hold a higher priority to cleaning.\n",
    "        \n",
    "        # Look at surroundings ... well guess at them...:\n",
    "        north=(location[0],location[1]+1)\n",
    "        south=(location[0],location[1]-1)\n",
    "        east =(location[0]-1,location[1])\n",
    "        west =(location[0]+1,location[1])\n",
    "        loc = location\n",
    "        \n",
    "        # These few lines are just seperated to make reading code easier...\n",
    "        neighbors=[north,south,east,west,loc]\n",
    "        \n",
    "        # Check if neighbors have been seen, if not add them as inf dirty\n",
    "        # also check if I am still at same location - indicating a bounce back:\n",
    "        # COME BACK TO THIS..\n",
    "        for key in neighbors:\n",
    "            if key not in model:\n",
    "                model[key]=['Unknown',1]\n",
    "            else:\n",
    "                state,pred_state = model[key]\n",
    "                if state=='Unknown':\n",
    "                    # Don't change anything, it is already a 1 and we shouldn't know anything about it\n",
    "                    pass\n",
    "                else:\n",
    "                    # the location stays the same state it was, and probability goes up that it is dirty\n",
    "                    model[key]=(state,pred_state+p_dirt)\n",
    "                    \n",
    "        # Update the current location's known status:\n",
    "        model[location]=[status_known,0]\n",
    "        print(model)\n",
    "        if status_known == 'Dirty':\n",
    "            return 'Vacuum'\n",
    "        elif status_known == 'Clean':\n",
    "            # Now find the next location that is best to go to:\n",
    "            # For the moment if multiple inf's exist, choose a random one, this is because of walls\n",
    "            # I need to think of a way to do a try: catch: that will tell me when the returned action is taken \n",
    "            # that if I get a bounce back, then I hit a wall...\n",
    "            # USE last location? <- wasn't working come back to it.\n",
    "            \n",
    "            # So it is clean, then I need to move elsewhere:\n",
    "            model[location]=['Clean',0]\n",
    "            # So I have not finished this attempt before the due date ... sorry\n",
    "            \n",
    "            # Here I would just need to tell the roomba to step to the dirtiest room based on the pred_state\n",
    "            # of the model. If I have all unknonw states then I would randomly choose a direction.\n",
    "        \n",
    "        #   return 'E'\n",
    "        #elif location == (1,0):\n",
    "        #    return 'W'\n",
    "        \n",
    "    return Agent(name, agent_function)        "
   ]
  },
  {
   "cell_type": "markdown",
   "metadata": {},
   "source": [
    "There should be a relationship between the agent's performance, the frequency with which new dirt stochastically appears (`p_dirt`), and your `NoOp` action strategy (which avoids excessive moving around).  This might be easiest to think about in terms of the limiting cases:\n",
    "* What should be the agent's `NoOp` strategy if `p_dirt` = 1?\n",
    "* What should be the agent's `NoOp` strategy if `p_dirt` = 0?\n",
    "\n",
    "Note that we don't have any control over `p_dirt`; it is a property of how filthy our living conditions are. All we can do is specify the Roomba's `NoOp` strategy (waiting time before circling back to check for new dirt) as best we can.\n",
    "\n",
    "So, try a few very long simulations (you might want to suppress the printed output for these) with different combinations of `NoOp` strategy and `p_dirt` values.  For a couple different values of `p_dirt`, what do you find to be the optimal `NoOp` strategies? That is, what waiting time (once the agent knows it has cleaned everything) will maximize the agent's performance?"
   ]
  },
  {
   "cell_type": "code",
   "execution_count": 39,
   "metadata": {},
   "outputs": [
    {
     "name": "stdout",
     "output_type": "stream",
     "text": [
      "{(0, 0): 'Dirty'}\n",
      "Agent roomba1 executes action Vacuum at location (0, 0)\n",
      "{(0, 0): 'Clean'}\n",
      "Agent roomba1 executes action E at location (0, 0)\n",
      "{(0, 0): 'Clean', (1, 0): 'Dirty'}\n",
      "Agent roomba1 executes action Vacuum at location (1, 0)\n",
      "{(0, 0): 'Clean', (1, 0): 'Clean'}\n",
      "Agent roomba1 executes action W at location (1, 0)\n",
      "{(0, 0): 'Clean', (1, 0): 'Clean'}\n",
      "Agent roomba1 executes action E at location (0, 0)\n",
      "{(0, 0): 'Clean', (1, 0): 'Clean'}\n",
      "Agent roomba1 executes action W at location (1, 0)\n"
     ]
    }
   ],
   "source": [
    "# Make Room:\n",
    "room = VacuumEnvironment(width=2, height=1)\n",
    "\n",
    "# Make roomda:\n",
    "roomba = ReflexRoombaAgent('roomba1')\n",
    "room.add_thing(roomba, location=(0,0))\n",
    "\n",
    "# Add dirt:\n",
    "room.add_thing(Dirt(), location=(0,0))\n",
    "room.add_thing(Dirt(), location=(1,0))\n",
    "\n",
    "# Drive the sim:\n",
    "room.driver(6)"
   ]
  },
  {
   "cell_type": "markdown",
   "metadata": {},
   "source": [
    "<br>\n",
    "\n",
    "<a/ id='p1c'></a>\n",
    "\n",
    "### (1c)\n",
    "\n",
    "Let's continue to build this up! We can make things a bit more interesting by increasing the size of the room. Add the following features to your codes from **(1b)**:\n",
    "* Try a 2x2 room first.\n",
    "* In the example codes, Roomba knew the geography of the environment (i.e., that it is a 2x1 room), so it knew the options for moving around.\n",
    "  * As a first attempt for your 2x2 room, make this assumption.  Thus, the Roomba's choices of action to execute will depend on its sensed location.\n",
    "    * Note that if Roomba is at (0,0), and senses that this tile is clean, but has no information about (1,0) or (0,1), then it should choose at random where to go next. A modification of the `np.random.choice` function call above can take care of this.\n",
    "  * Once that seems to work, try to incorporate the fact that the Roomba typically does not know a priori what the shape of the room is. \n",
    "    * The easiest first step to build this into your model is to have Roomba sense its environment: if dirty, then clean the tile; if clean, then move randomly. (This is how I clean my apartment.)\n",
    "    * Then you can try building a **map** of the room as part of the Roomba's model. So as the random-movement Roomba flails around, it will sometimes bump into a wall.  But if it senses a bump, then Roomba can *learn* where the walls are, and what the available actions are depending on where in the room it is.\n",
    "    * Holy heck, we just built a *learning* model-based agent!\n",
    "* Once your Roomba is successfully tidying up a 2x1 or 2x2 room, go bigger!\n",
    "* It might be useful to note that the only thing that really needs to change is your `agent_function`, which maps percepts to actions. The `VacuumEnvironment` class is already able to handle arbitrary-sized rooms. So selecting an action will need to be modified, as well as how the agent builds its internal model of the task environment."
   ]
  },
  {
   "cell_type": "code",
   "execution_count": null,
   "metadata": {
    "collapsed": true
   },
   "outputs": [],
   "source": []
  },
  {
   "cell_type": "markdown",
   "metadata": {},
   "source": [
    "<br>\n",
    "\n",
    "<a/ id='p1d'></a>\n",
    "\n",
    "### (1d)\n",
    "\n",
    "Let's add two more related details that will really make this Roomba more realistic.\n",
    "* Roombas have a certain amount of **charge**, which depletes as time goes on. You could incorporate this into the model in a few different ways. Use your ingenuity and creativity to decide how to implement this! If you get stuck, ask other groups or ask me.\n",
    "  * This means that your Roomba is going to need a particular location as a charging spot, and should return to it every so often.\n",
    "  * It is probably reasonable to assume that your Roomba knows how long (how many time steps) it takes to deplete its battery. As part of Roomba's model, it should keep track of how long it will take to return to the charging port and how much battery life remains.\n",
    "  * If the battery falls below a critical point, return to base!\n",
    "  * What should happen if the battery is fully depleted?\n",
    "* Roombas also can only hold a **finite amount of dirt**.\n",
    "  * If the dirt gets \"full\" (you will need to implement some dirt limit as part of the agent), then the Roomba can't vacuum anymore and needs to return to the charging port to dump its dirt."
   ]
  },
  {
   "cell_type": "code",
   "execution_count": null,
   "metadata": {
    "collapsed": true
   },
   "outputs": [],
   "source": []
  },
  {
   "cell_type": "markdown",
   "metadata": {},
   "source": [
    "<br>\n",
    "\n",
    "---\n",
    "\n",
    "[Back to top](#top)\n",
    "\n",
    "<img src=\"https://i.pinimg.com/736x/ca/0d/9f/ca0d9f851e6c21b737883eecc5083250.jpg\" alt=\"Drawing\" style=\"width: 180px;\"/>\n",
    "\n",
    "\n",
    "<a id='p2'></a>\n",
    "\n",
    "## Problem 2\n",
    "\n",
    "### Decision analysis: A Boulder-ific Example\n",
    "\n",
    "<a id='p2a'></a>\n",
    "### (2a)\n",
    "\n",
    "Suppose a total (including you) of $n=12$ of your friends are planning to have a ski weekend in Steamboat Springs. The condo you will rent costs \\$240 per night, and there is a 3-night minimum stay.  Now suppose all 12 people are positive that they will stay for Friday and Saturday night. But some of the gang are slackers who don't have class until 4 PM on Monday, and they want to stick around for another half-day of skiing.  The decision we are going to analyze is this:  **how should we split up the cost among the 12 friends?**\n",
    "\n",
    "<br>\n",
    "\n",
    "**STOP HERE AND ARGUE AMONGST YOURSELVES BEFORE DOING ANY MATH - HOW DO YOU THINK WE SHOULD SPLIT THE COST?**\n",
    "\n",
    "<br>\n",
    "\n",
    "Have you argued yet? Become emotionally-invested in a stance on this issue before continuing!"
   ]
  },
  {
   "cell_type": "markdown",
   "metadata": {},
   "source": [
    "<br>\n",
    "\n",
    "Okay, now let's proceed.\n",
    "\n",
    "So why do we care?  Well, let's denote by $x$ the ***uncertain*** number of people who will stay for the last night.\n",
    "\n",
    "Suppose $x=12$. Then the obvious choice is to have an even split of the total cost among everyone. That is,\n",
    "\n",
    "$$\\$240 \\times 3\\ \\text{nights} / 12\\ \\text{people} = \\$60\\ \\text{per person}$$\n",
    "\n",
    "That means everyone is paying \\$20/night. Sounds fair!\n",
    "\n",
    "But now what if $x=2$? That is, suppose only two friends stay for Sunday night. Let's keep in mind that there was a 3-night minimum. Now suppose we split the total bill 12 ways, so everyone pays \\$60 total again. Call this the **even split** decision (ES for short). Now under decision $d_{ES}$, the people staying for 2 nights are paying \\$30/night, whereas the 2 slackers who stayed Sunday night as well are only paying \\$20/night. That seems a little bit less fair.\n",
    "\n",
    "As an alternative decision, what about if we split up the cost *per night*. So we divide the Friday night cost among everyone who was in attendance Friday night, and same for Saturday and Sunday. Let's call this the **pro-rated** bill split decision (PR for short).\n",
    "\n",
    "Calculate the **cost per night** for each of the 10 two-night attendeees and for each of the 2 three-night attendees, under the pro-rated decision, $d_{PR}$."
   ]
  },
  {
   "cell_type": "code",
   "execution_count": null,
   "metadata": {
    "collapsed": true
   },
   "outputs": [],
   "source": []
  },
  {
   "cell_type": "markdown",
   "metadata": {},
   "source": [
    "<br>\n",
    "\n",
    "<a/ id='p2b'></a>\n",
    "\n",
    "### (2b)\n",
    "\n",
    "Let's formalize this problem in the context of minimizing a **loss function**.  Once we define a loss function and a prior distribution for the uncertain decision variable $x$ (number of people staying Sunday night), we can pick the decision to minimize the expected loss (i.e., the Bayes' decision). Or we can do something else.  The point is that nothing makes a friend you're arguing with happier than hearing \"hey, let's do some math!\"\n",
    "\n",
    "First, we need to do ourselves a favor and define a function to split the total cost, depending on which decision is made.  Define the function `split(cost_total, d, x, n)` such that:\n",
    "* `cost_total` is the total cost, for all three nights\n",
    "* `d` is the decision ($d_{ES}$ or $d_{PR}$)\n",
    "* `x` is the unknown variable representing the number of people who stay for Sunday night (we assume everyone will stay for Friday and Saturday nights)\n",
    "* `n` is an argument for the total number of people (here, we are assuming `n` is 12, but it's best not to hard-code these kinds of things)\n",
    "* the output of `split` should be a tuple of the cost per night for each of the two-night attendees, and three-night attendees. Call these $C_2$ and $C_3$, for brevity's sake.\n",
    "\n",
    "**Check** that your `split` function returns the expected output when you use $c_{total} = \\$240 \\times 3$, $x=2$, $n=12$, and each of $d = d_{ES}$ and $d=d_{PR}$."
   ]
  },
  {
   "cell_type": "code",
   "execution_count": null,
   "metadata": {
    "collapsed": true
   },
   "outputs": [],
   "source": []
  },
  {
   "cell_type": "markdown",
   "metadata": {},
   "source": [
    "<br>\n",
    "\n",
    "<a/ id='p2c'></a>\n",
    "\n",
    "### (2c)\n",
    "\n",
    "Now for the controversial part: we need to define our loss function.  In decision analyses ranging from splitting the bill for a ski condo to managing a hydroelectric dam to estimating the \"correct\" height by which to augment the levees protecting New Orleans, people are going to disagree about the form of the loss function to assume. We will develop our decision analysis here using one form, but you are encouraged to revise it and try others out to see how the decision you arrive at might be affected by your choice of loss function.\n",
    "\n",
    "*Connection to agents: loss can be viewed inversely as utility (just define utility as $-1 \\times\\ \\text{Loss}$), so the decisions that our Roomba agent, for example, makes could be quite different if it were trying to maximize a different utility function/minimize a different loss function.*\n",
    "\n",
    "In the preamble to this problem, we talked about *fairness*, so perhaps our the loss function we want to minimize should have something to do with equality. Let's have a first attempt by drawing a lesson from linear regresion: let's minimize the sum of squared deviations from a central estimate.\n",
    "\n",
    "So we need (i) a central estimate of cost per night, and (ii) to calculate the (square of) the difference between each person's cost per night, and the central estimate of cost per night.\n",
    "\n",
    "First, define a function to calculate a central estimate of cost per night. What the arguments are will depend on the exact form of this central estimate that you decide to use. Here are some recommendations:\n",
    "* arguments you will definitely need:\n",
    "  * $C_2$, cost per night for the two-night attendees (output from your `split` function)\n",
    "  * $C_3$, cost per night for the three-night attendees (output from your `split` function)\n",
    "* arguments you might need:\n",
    "  * $x$, number of people spending all three nights\n",
    "  * $n$, the total number of people"
   ]
  },
  {
   "cell_type": "code",
   "execution_count": null,
   "metadata": {
    "collapsed": true
   },
   "outputs": [],
   "source": []
  },
  {
   "cell_type": "markdown",
   "metadata": {},
   "source": [
    "Note that since this should be a central estimate, any output needs to be bounded between (possibly equal to) $C_2$ and $C_3$. Verify that this is the case for $x=2$ and $n=12$."
   ]
  },
  {
   "cell_type": "code",
   "execution_count": null,
   "metadata": {
    "collapsed": true
   },
   "outputs": [],
   "source": []
  },
  {
   "cell_type": "markdown",
   "metadata": {},
   "source": [
    "Now our loss function should be the sum of squared deviations from your central estimate, $\\bar{c}(d,x)$. Note that $\\bar{c}$ depends on the decision $d$ and uncertain decision variable $x$ because those dictate how you split the cost. If we let $c_k(d,x)$ denote the cost per night for person $k$, then the loss is:\n",
    "\n",
    "$$L(d,x) = \\sum_{k=1}^n (c_k(d,x) - \\bar{c}(d,x))^2$$\n",
    "\n",
    "Notice that you can write this without a sum if you note that $c_k(d,x)$ can take only one of two values, $C_2$ and $C_3$.\n",
    "\n",
    "Define a loss function function (that isn't a typo) that takes as arguments:\n",
    "* `cost_total`: the total cost for the three nights\n",
    "* `d`: the decision made\n",
    "* `x`: the uncertain number of people staying all three nights\n",
    "* `n`: the total number of people (all `n` are staying at least Friday and Saturday)\n",
    "\n",
    "and returns the quadratic loss defined above."
   ]
  },
  {
   "cell_type": "code",
   "execution_count": null,
   "metadata": {
    "collapsed": true
   },
   "outputs": [],
   "source": []
  },
  {
   "cell_type": "markdown",
   "metadata": {},
   "source": [
    "**Check** that your loss function function returns what you expect it to when you use $x=n$."
   ]
  },
  {
   "cell_type": "code",
   "execution_count": null,
   "metadata": {
    "collapsed": true
   },
   "outputs": [],
   "source": []
  },
  {
   "cell_type": "markdown",
   "metadata": {},
   "source": [
    "<br>\n",
    "\n",
    "<a/ id='p2d'></a>\n",
    "\n",
    "### (2d)\n",
    "\n",
    "Calculate for each possible value of $x$ the loss under the even-split decision, $d_{ES}$. You do not need to include $x=0$, but you should include $x=12$ as a sanity check. Store the result in a list or `numpy` array.  Do the same for the pro-rated split decision, $d_{PR}$."
   ]
  },
  {
   "cell_type": "code",
   "execution_count": null,
   "metadata": {
    "collapsed": true
   },
   "outputs": [],
   "source": []
  },
  {
   "cell_type": "markdown",
   "metadata": {},
   "source": [
    "Plot $L(d_{PR},x)$ and $L(d_{ES},x)$ against $x$ on the same set of axes.  Comment on how the loss incurred from each decision is affected by the value of $x$.  Be sure to **label your axes and include a legend**. If we want to hedge against *catastrophic* loss, which decision should we make? That is, which decision minimizes the maximum possible loss?\n",
    "\n",
    "If you have not plotted anything in Python before, there's a couple lines of code to get you off the ground. Of course, you will need to modify it to suit our needs. If you want to learn more about how to customize these plots, recall that at the very beginning of the notebook, we imported `matplotlib.pyplot` as `plt` - so that's what to search for online. And there are **lots** of resources for `pyplot`, because it's a badass plotting package."
   ]
  },
  {
   "cell_type": "code",
   "execution_count": null,
   "metadata": {
    "collapsed": true
   },
   "outputs": [],
   "source": [
    "plt.plot(x, y1, label='label 1')\n",
    "plt.plot(x, y2, label='label 2')\n",
    "plt.title('Awesome plot!')\n",
    "plt.xlabel('This is an x-label')\n",
    "plt.ylabel('This is a y-label')\n",
    "plt.legend()\n",
    "plt.show()"
   ]
  },
  {
   "cell_type": "markdown",
   "metadata": {},
   "source": [
    "<br>\n",
    "\n",
    "<a/ id='p2e'></a>\n",
    "\n",
    "### (2e)\n",
    "\n",
    "We might have enough information based on the plot of **2d** to make a decision, but let's dig one layer deeper. Those decisions we would make are affected, after all, by *what are our beliefs about $x$*?\n",
    "\n",
    "Our beliefs about $x$ can be brought into the mix in the form of the ***prior distribution*** on $x$, $f(x)$. Here, $f(x)$ is discrete, so instead of specifying a probability distribution of some form, we can simply define the probability for each of the possible outcomes ($x=1, x=2, \\ldots, x=12$). And then we just need to make sure they sum to 1 (since that's what a probability distribution is).\n",
    "\n",
    "So the simplest (and often silliest) thing we could do is define **uniform** prior probability to each of the 12 possible outcomes for $x$:"
   ]
  },
  {
   "cell_type": "code",
   "execution_count": null,
   "metadata": {
    "collapsed": true
   },
   "outputs": [],
   "source": [
    "x = list(range(1,13))\n",
    "prior = [1]*12"
   ]
  },
  {
   "cell_type": "markdown",
   "metadata": {},
   "source": [
    "Note that while each probability in `prior` is equal, they are not normalized! So let's normalize them:"
   ]
  },
  {
   "cell_type": "code",
   "execution_count": null,
   "metadata": {
    "collapsed": true
   },
   "outputs": [],
   "source": [
    "norm = np.sum(prior)\n",
    "prior = [prior[i]/norm for i in range(len(prior))]"
   ]
  },
  {
   "cell_type": "markdown",
   "metadata": {},
   "source": [
    "We now have the prior probability for each possible value of $x$ as well as the loss under each decision, $L(d_{ES},x)$ and $L(d_{PR},x)$. Use these to calculate the **expected value** of each decision's loss (with respect to $x$). Which decision is the Bayes' Decision?"
   ]
  },
  {
   "cell_type": "code",
   "execution_count": null,
   "metadata": {
    "collapsed": true
   },
   "outputs": [],
   "source": []
  },
  {
   "cell_type": "markdown",
   "metadata": {},
   "source": [
    "Now a uniform prior distribution is a nice first stab at this, but we probably have a better sense of how many people want to stay for Sunday night. At the very least, we should know that it's highly unlikely that $x=1$ or $x=12$. Revise the prior probabilities to reflect our judgment that it is more likely that moderate numbers of people stick around for Sunday night, and less likely that extremal numbers of people stay. As a guide, think about how much more likely it might be for 5 or 6 people (for example) to stay for the third night than it is for only 1 or all 12 to stay. Use this *odds ratio* to guide your selection of the relative prior probabilities, and be sure to check that your discrete prior probability distribution is properly normalized."
   ]
  },
  {
   "cell_type": "code",
   "execution_count": null,
   "metadata": {
    "collapsed": true
   },
   "outputs": [],
   "source": []
  },
  {
   "cell_type": "markdown",
   "metadata": {},
   "source": [
    "Now use this revised \"informative\" prior probability distribution to calculate $E_x[L(d_{ES},x)]$ and $E_x[L(d_{PR},x)]$, and determine what is the Bayes' Decision."
   ]
  },
  {
   "cell_type": "code",
   "execution_count": null,
   "metadata": {
    "collapsed": true
   },
   "outputs": [],
   "source": []
  },
  {
   "cell_type": "markdown",
   "metadata": {},
   "source": [
    "<br>\n",
    "\n",
    "<a/ id='p2f'></a>\n",
    "\n",
    "### (2f)\n",
    "\n",
    "If the decision you make is not strongly affected by changes in the underlying assumptions, then your decision is said to be ***robust***. Was our decision robust against changing the underlying prior distribution $f(x)$?"
   ]
  },
  {
   "cell_type": "code",
   "execution_count": null,
   "metadata": {
    "collapsed": true
   },
   "outputs": [],
   "source": []
  },
  {
   "cell_type": "markdown",
   "metadata": {},
   "source": [
    "What are at least **two** other places where making judgments/assumptions could possibly have affected our decision-making? Try changing one of them to see if making other judgments affects the outcome of this decision analysis. "
   ]
  },
  {
   "cell_type": "code",
   "execution_count": null,
   "metadata": {
    "collapsed": true
   },
   "outputs": [],
   "source": []
  },
  {
   "cell_type": "markdown",
   "metadata": {},
   "source": [
    "<br>\n",
    "\n",
    "<a/ id='p2g'></a>\n",
    "\n",
    "### (2g)\n",
    "\n",
    "#### Expected value of perfect information\n",
    "\n",
    "Unless we make some rather funky assumptions, we know that the **expected value of including uncertainty** (EVIU) is 0 for the quadratic loss  function. (One situation in which it is not is if we were a risk-averse decision-maker, and took as our central estimate for $x$ something besides $E_x[x]$. But we aren't getting into that here.) What about the **expected value of perfect information** regarding $x$, EVPI?\n",
    "\n",
    "Recall that EVPI is defined as\n",
    "\n",
    "$$\\text{EVPI} = E_x[L(d_{Bayes},x)] - E_x[L(d_{pi},x)]$$\n",
    "\n",
    "where $d_{Bayes}$ is the Bayes' Decision and $d_{pi}$ is the decision we would make if we had perfect information about $x$.\n",
    "\n",
    "We know from **2e** what $d_{Bayes}$ is, and the associated expected loss under this decision. Use the one with a more *informative* prior (i.e., not the uniform prior).\n",
    "\n",
    "But what about $d_{pi}$?\n",
    "\n",
    "If we had perfect information about $x$, then we would always pick the decision that gives a lower loss (courtesy of our figure from **2d**). So:\n",
    "\n",
    "$$L(d_{pi},x) = \\min{[L(d_{ES}, x), L(d_{PR}, x)]}$$\n",
    "\n",
    "In other words, for each possible value of $x$, the loss with perfect information is the minimum of the two losses.\n",
    "\n",
    "Use this to calculate $E_x[L(d_{pi},x)]$ and EVPI using the more informative prior.  Then, recalculate EVPI using the uniform prior for $x$."
   ]
  },
  {
   "cell_type": "code",
   "execution_count": null,
   "metadata": {
    "collapsed": true
   },
   "outputs": [],
   "source": []
  },
  {
   "cell_type": "markdown",
   "metadata": {},
   "source": [
    "How does our certainty/uncertainty regarding $x$ affect the expected value of having perfect information about this quantity?"
   ]
  },
  {
   "cell_type": "code",
   "execution_count": null,
   "metadata": {
    "collapsed": true
   },
   "outputs": [],
   "source": []
  },
  {
   "cell_type": "markdown",
   "metadata": {},
   "source": [
    "<br>\n",
    "\n",
    "---\n",
    "\n",
    "<a id='extra'></a>\n",
    "\n",
    "## Extra cred (not credit)\n",
    "\n",
    "What is the best route from the Engineering Center to the Ralphie statue between Muenzinger and Folsom Stadium?\n",
    "\n",
    "<img src=\"http://drive.google.com/uc?export=view&id=1u25gItndw9-BSutPEQI-rNsc1E6wkZav\" alt=\"Drawing\" style=\"width: 550px;\"/>"
   ]
  },
  {
   "cell_type": "code",
   "execution_count": null,
   "metadata": {
    "collapsed": true
   },
   "outputs": [],
   "source": []
  }
 ],
 "metadata": {
  "kernelspec": {
   "display_name": "Python 3",
   "language": "python",
   "name": "python3"
  },
  "language_info": {
   "codemirror_mode": {
    "name": "ipython",
    "version": 3
   },
   "file_extension": ".py",
   "mimetype": "text/x-python",
   "name": "python",
   "nbconvert_exporter": "python",
   "pygments_lexer": "ipython3",
   "version": "3.6.3"
  }
 },
 "nbformat": 4,
 "nbformat_minor": 2
}
