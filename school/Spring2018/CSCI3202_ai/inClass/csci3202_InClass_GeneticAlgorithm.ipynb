{
 "cells": [
  {
   "cell_type": "markdown",
   "metadata": {},
   "source": [
    "# CSCI 3202, Spring 2018\n",
    "\n",
    "# 19 February 2018\n",
    "\n",
    "# In-class notebook:  Genetic Algorithms"
   ]
  },
  {
   "cell_type": "markdown",
   "metadata": {},
   "source": [
    "<a id='top'></a>\n",
    "\n",
    "<br>\n",
    "\n",
    "### Your name(s):\n",
    "\n",
    "<br>\n",
    "\n",
    "* When you submit this to Moodle, be sure to include all of your group members' names.\n",
    "* You may work in groups of up to 3 people,\n",
    "* but **all people** in the group must submit the assignment on their own Moodle account (because Moodle is a pain in the ass to create groups and this will still be faster than your normal quizlets).\n",
    "\n",
    "---"
   ]
  },
  {
   "cell_type": "markdown",
   "metadata": {},
   "source": [
    "Before we begin, let's load a few packages that we might find useful."
   ]
  },
  {
   "cell_type": "code",
   "execution_count": 1,
   "metadata": {
    "collapsed": true
   },
   "outputs": [],
   "source": [
    "import numpy as np\n",
    "import matplotlib.pyplot as plt"
   ]
  },
  {
   "cell_type": "markdown",
   "metadata": {},
   "source": [
    "<br>\n",
    "\n",
    " Yum!     |   Yum...?\n",
    ":---:|:---:\n",
    "<img src='https://madeitsyd.blob.core.windows.net/2013-6-0/a8135c242D2e6c2D478a2Da63b2D251c9f915642js8003.jpg' width=\"200\"/> | <img src=\"http://www.slaw.ca/wp-content/uploads/2015/05/gravel_in_hand.png\" width=\"300\"/>\n",
    "\n",
    "## Maximizing some objective delight\n",
    "\n",
    "Suppose we are packing a lunch a trying to decide what to bring along.  There are four food options in front of us:\n",
    "1. an apple,\n",
    "2. a peanut butter and jelly sandwich,\n",
    "3. a cookie, and\n",
    "4. some gravel.\n",
    "\n",
    "Now we aren't very food-savvy, but we are algorithm-savvy, so we decide to use a ***genetic algorithm*** to decide which of these food items we should pack for lunch.\n",
    "\n",
    "We can represent the `state` of our lunch as a length 4 bit-string.  For example, `state=[1,1,0,1]` represents a lunch that includes an apple, a PB&J, and some gravel, but no cookie. Yum!\n",
    "\n",
    "The first step will be to define some objective function to maximize. Let's call this our `delight` with the `state` of our lunch, if we eat all of the items in the lunch.  I can only speak for myself, but the apple will delight me a bit, the PB&J will delight me a little more than the apple, and the cookie will delight me the most of all! But eating that gravel will **not** delight me. In fact, it will reduce my total delight by a substantial amount."
   ]
  },
  {
   "cell_type": "code",
   "execution_count": 2,
   "metadata": {
    "collapsed": true
   },
   "outputs": [],
   "source": [
    "def delight(state):\n",
    "    goodness = 6            # how happy am I without a lunch?\n",
    "    goodness += 1*state[0]  # apples are okay...\n",
    "    goodness += 2*state[1]  # but PB&J is better! (twice as good, apparently)\n",
    "    goodness += 4*state[2]  # and cookies are even better still!\n",
    "    goodness += -5*state[3] # and gravel is disgusting.\n",
    "    return goodness"
   ]
  },
  {
   "cell_type": "markdown",
   "metadata": {},
   "source": [
    "Let's initialize our genetic algorithm population with each of the four lunches possible by bringing only a single item."
   ]
  },
  {
   "cell_type": "code",
   "execution_count": null,
   "metadata": {
    "collapsed": true
   },
   "outputs": [],
   "source": [
    "initial_population = [[1,0,0,0],[0,1,0,0],[0,0,1,0],[0,0,0,1]]"
   ]
  },
  {
   "cell_type": "markdown",
   "metadata": {},
   "source": [
    "... And define our class structure to solve this `problem`:"
   ]
  },
  {
   "cell_type": "code",
   "execution_count": 6,
   "metadata": {},
   "outputs": [],
   "source": [
    "class problem:\n",
    "    def __init__(self,init_pop,obj_func,p_mutate):\n",
    "        self.population = init_pop\n",
    "        self.objective_function = obj_func\n",
    "        self.p_mutate = p_mutate\n",
    "    def reproduce(self,parent1,parent2):      # Could be 'asexual' where we just have one parent and rearrange the genes\n",
    "        # Pick split point:\n",
    "        # Could make sure the DNA is the same length\n",
    "        split = np.random.randint(low=1,high=len(parent1))\n",
    "        child = parent1[:split]+parent2[split+1:]\n",
    "        # Create child based on parent 1 & parent 2 DNA:\n",
    "    def mutation(self,child):\n",
    "        # So now we need some p_mutate\n",
    "        # Fill it in later...\n",
    "        mutated_child = child\n",
    "        \n",
    "        return mutated_child"
   ]
  },
  {
   "cell_type": "markdown",
   "metadata": {},
   "source": [
    "And lastly, we need to turn our genetic algorithm code into actual code!"
   ]
  },
  {
   "cell_type": "code",
   "execution_count": 7,
   "metadata": {},
   "outputs": [
    {
     "ename": "SyntaxError",
     "evalue": "invalid syntax (<ipython-input-7-56a7b1881647>, line 1)",
     "output_type": "error",
     "traceback": [
      "\u001b[0;36m  File \u001b[0;32m\"<ipython-input-7-56a7b1881647>\"\u001b[0;36m, line \u001b[0;32m1\u001b[0m\n\u001b[0;31m    def genetic_algorithm(problem, some number of generations):\u001b[0m\n\u001b[0m                                             ^\u001b[0m\n\u001b[0;31mSyntaxError\u001b[0m\u001b[0;31m:\u001b[0m invalid syntax\n"
     ]
    }
   ],
   "source": [
    "def genetic_algorithm(problem, some number of generations):\n",
    "    \n",
    "    for some number of generations:\n",
    "                \n",
    "        # Create a new generation by creating a same-sized population\n",
    "        # of children by:\n",
    "            \n",
    "            # 1. select for reproduction\n",
    "            #    a) calculate each population member's fitness for reproduction\n",
    "            obj_values = [problem.objective_function(member) for member in problem.population] \n",
    "            #    b) calculate probability of each member reproducing\n",
    "            # Use 'cheaky' method...\n",
    "            obj_total = sum(obj_values)\n",
    "            p_reporduction = [obj_val/obj_total for obj_val in obj_values]\n",
    "            #    c) select two mates from population based on reproductive probabilities\n",
    "            #selection = random choice of 2 of the members using probabilities of p_reporoduce\n",
    "            \n",
    "            # 2. mate the two individuals, creating a child in the new generation\n",
    "            #    a) pick where the parents' \"DNA\" is spliced together\n",
    "            #reproduce\n",
    "            \n",
    "            # 3. child has a gene mutated with some small probability\n",
    "                     \n",
    "                \n",
    "        # Check whether any member satisfies the fitness goal\n",
    "        # a) If yes, return that member and exit\n",
    "        # b) If no, continue\n",
    "    \n",
    "    # If we've reached the end (# generations), return some failure warning\n"
   ]
  },
  {
   "cell_type": "markdown",
   "metadata": {},
   "source": [
    "Now, the moment of truth:  will we eat cookies for lunch?  Or gravel?\n",
    "\n",
    "*Note that depending on the keyword arguments in your `problem` class constructor, you may need to make some gentle modifications to the lines below.*"
   ]
  },
  {
   "cell_type": "code",
   "execution_count": null,
   "metadata": {
    "collapsed": true
   },
   "outputs": [],
   "source": [
    "genetic_problem = problem(initial_population=initial_population, \n",
    "                          fitness_goal=13, \n",
    "                          mutation_probability=0.1, \n",
    "                          objective_function=delight)\n",
    "out = genetic_algorithm(genetic_problem, 20)"
   ]
  },
  {
   "cell_type": "markdown",
   "metadata": {},
   "source": [
    "Fantastic!  I wasn't in the mood for some gravel today anyhow.\n",
    "\n",
    "<br>\n",
    "\n",
    "---\n",
    "\n",
    "<br>"
   ]
  },
  {
   "cell_type": "code",
   "execution_count": null,
   "metadata": {
    "collapsed": true
   },
   "outputs": [],
   "source": [
    "# Pseudocode\n",
    "    \n",
    "def genetic_algorithm(problem, some number of generations):\n",
    "    \n",
    "    for some number of generations:\n",
    "                \n",
    "        # Create a new generation by creating a same-sized population\n",
    "        # of children by:\n",
    "            \n",
    "            # 1. select for reproduction\n",
    "            #    a) calculate each population member's fitness for reproduction\n",
    "            #    b) calculate probability of each member reproducing\n",
    "            #    c) select two mates from population based on reproductive probabilities\n",
    "            \n",
    "            # 2. mate the two individuals, creating a child in the new generation\n",
    "            #    a) pick where the parents' \"DNA\" is spliced together\n",
    "            \n",
    "            # 3. child has a gene mutated with some small probability\n",
    "                            \n",
    "        # Check whether any member satisfies the fitness goal\n",
    "        # a) If yes, return that member and exit\n",
    "        # b) If no, continue\n",
    "    \n",
    "    # If we've reached the end (# generations), return some failure warning\n"
   ]
  },
  {
   "cell_type": "code",
   "execution_count": null,
   "metadata": {
    "collapsed": true
   },
   "outputs": [],
   "source": []
  }
 ],
 "metadata": {
  "kernelspec": {
   "display_name": "Python 3",
   "language": "python",
   "name": "python3"
  },
  "language_info": {
   "codemirror_mode": {
    "name": "ipython",
    "version": 3
   },
   "file_extension": ".py",
   "mimetype": "text/x-python",
   "name": "python",
   "nbconvert_exporter": "python",
   "pygments_lexer": "ipython3",
   "version": "3.6.3"
  }
 },
 "nbformat": 4,
 "nbformat_minor": 2
}
