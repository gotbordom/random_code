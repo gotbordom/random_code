{
 "cells": [
  {
   "cell_type": "markdown",
   "metadata": {},
   "source": [
    "<a id='top'></a>\n",
    "\n",
    "# CSCI 3202, Spring 2018\n",
    "# Assignment 3\n",
    "# Due:  Wednesday 28 February 2018 by 12:00 PM\n",
    "\n",
    "<br>\n",
    "\n",
    "### Your name:\n",
    "\n",
    "<br>\n",
    "\n",
    "**Note:** Some packages to load, helper functions and unit tests are defined at [the bottom of this notebook](#helpers)\n",
    "\n",
    "Shortcuts:  [top](#top) || [1](#p1) | [1a](#p1a) | [1b](#p1b) | [1c](#p1c) | [1d](#p1d) | [1e](#p1e) || [2](#p2) | [2a](#p2a) | [2b](#p2b) | [2c](#p2c) | [2d](#p2d) | [2e](#p2e) | [2f](#p2f) || [helpers](#helpers)"
   ]
  },
  {
   "cell_type": "markdown",
   "metadata": {},
   "source": [
    "---\n",
    "\n",
    "<a id='p1'></a>[Back to top](#top)\n",
    "\n",
    "## Problem 1\n",
    "\n",
    "### Still trying to Escape from Chicago\n",
    "\n",
    "Well, it turns out Snake lived through his perilous trip to New York City.  He returned to Chicago, where he is living happily among the criminals, sea lions and criminal sea lions.\n",
    "\n",
    "During Snake's time on the east coast, he came to realize that the soothing Atlantic Ocean air does wonders for his nerves. Living in the penal colony of Chicago is just so stressful! So he has decided to pack up and move to Providence, Rhode Island.\n",
    "\n",
    "Because Snake has traveled across the country already, he has some prior knowledge regarding how far various cities along the way are from his final destination of Providence.  In particular, Snake maps out the **straight-line distance** from major cities to Providence. This information is displayed graphically below, on a tattoo on Kurt Russell's forearm (you can't prove that isn't true), and in the `sld_providence` dictionary in the [helper functions](#helper) at the bottom of this notebook.\n",
    "\n",
    "Also note that because it doesn't make much sense to add estimated travel times and the straight-line distance, we will only be using the `map_distances` state space graph for this problem.\n",
    "\n",
    "**map_distances**          |  **sld_providence**\n",
    ":-------------------------:|:-------------------------:\n",
    "<img src=\"http://www.cs.colorado.edu/~tonyewong/home/resources/us_map_distances.png\" style=\"width: 500px;\"/>  | <img src=\"http://www.cs.colorado.edu/~tonyewong/home/resources/us_map_heuristicSLD.png\" style=\"width: 500px;\"/>\n",
    "\n",
    "\n",
    "<a id='p1a'></a>\n",
    "### (1a)\n",
    "\n",
    "Modify your code for uniform-cost search from Homework 2 so that it provides optionally as output the number of nodes **expanded** in completing the search. \n",
    "\n",
    "Include a new optional logical (True/False) argument **return_nexp**, so your function calls to the new uniform cost search will look like: `uniform_cost(start, goal, state_graph, return_cost, return_nexp)`.\n",
    "* If `return_nexp` is True, then the last output in the output tuple should be the number of nodes expanded.\n",
    "* If `return_nexp` is False, then the code should behave exactly as it did in Homework 2.\n",
    "\n",
    "Then, verify that your revised codes are working by checking Snake's optimal route from Chicago to New York. Include the number of nodes expanded and the path cost (using `map_distances`)."
   ]
  },
  {
   "cell_type": "code",
   "execution_count": null,
   "metadata": {},
   "outputs": [],
   "source": [
    "# Thanks for providing a solution from hw2.\n",
    "\n",
    "class Frontier_PQ:\n",
    "    ''' frontier class for uniform search, ordered by path cost '''\n",
    "    \n",
    "    def __init__(self, start, cost):\n",
    "        self.states = {}\n",
    "        self.q = []\n",
    "        self.add(start, cost)\n",
    "        #self.expanded = 0\n",
    "        \n",
    "    def add(self, state, cost):\n",
    "        ''' push the new state and cost to get there onto the heap'''\n",
    "        heapq.heappush(self.q, (cost, state))\n",
    "        self.states[state] = cost\n",
    "        #self.expanded += 1\n",
    "\n",
    "    def pop(self):\n",
    "        (cost, state) = heapq.heappop(self.q)  # get cost of getting to explored state\n",
    "        self.states.pop(state)    # and remove from frontier\n",
    "        return (cost, state)\n",
    "\n",
    "    def replace(self, state, cost):\n",
    "        ''' found a cheaper route to `state`, replacing old cost with new `cost` '''\n",
    "        self.states[state] = cost\n",
    "        for i, (oldcost, oldstate) in enumerate(self.q):\n",
    "            if oldstate==state and oldcost > cost:\n",
    "                self.q[i] = (cost, state)\n",
    "                heapq._siftdown(self.q, 0, i) # now i is posisbly out of order; restore\n",
    "        return\n",
    "    \n",
    "    \n",
    "def uniform_cost(start, goal, state_graph, return_cost=False,return_nexp=False):\n",
    "    frontier = Frontier_PQ(start, 0)\n",
    "    previous = {start : None}\n",
    "    explored = {}\n",
    "    expanded = 1\n",
    "    while frontier:\n",
    "        s= frontier.pop()\n",
    "        if s[1] == goal:\n",
    "            #print(\"tmp\",tmp)\n",
    "            print(\"exp\",expanded)  # Think I could have written this better, but I need to get this done today..\n",
    "            if return_cost and return_nexp: return path(previous, s[1]), s[0], expanded\n",
    "            if return_cost and not return_nexp: return path(previous, s[1]), s[0]\n",
    "            if return_nexp and not return_cost: return path(previous, s[1]), expanded\n",
    "            return path(previous, s[1])\n",
    "        explored[s[1]] = s[0]\n",
    "        expanded+=1\n",
    "        for s2 in state_graph[s[1]]:\n",
    "            newcost = explored[s[1]]+state_graph[s[1]][s2]\n",
    "            if (s2 not in explored) and (s2 not in frontier.states):\n",
    "                frontier.add(s2, newcost)\n",
    "                previous[s2] = s[1]\n",
    "            elif (s2 in frontier.states) and (frontier.states[s2] > newcost):\n",
    "                frontier.replace(s2, newcost)\n",
    "                previous[s2] = s[1]\n"
   ]
  },
  {
   "cell_type": "markdown",
   "metadata": {},
   "source": [
    "#### Unit tests"
   ]
  },
  {
   "cell_type": "code",
   "execution_count": null,
   "metadata": {},
   "outputs": [],
   "source": [
    "tests_to_run = unittest.TestSuite()\n",
    "tests_to_run.addTest(Tests_Problem1('test_ucs_route'))\n",
    "tests_to_run.addTest(Tests_Problem1('test_ucs_cost'))\n",
    "tests_to_run.addTest(Tests_Problem1('test_ucs_nexp'))\n",
    "unittest.TextTestRunner().run(tests_to_run)\n",
    "\n",
    "#path, cost, nexp = uniform_cost('chi','new',map_distances,return_cost=True,return_nexp=True)"
   ]
  },
  {
   "cell_type": "markdown",
   "metadata": {},
   "source": [
    "<br>\n",
    "\n",
    "<a/ id='p1b'></a>\n",
    "\n",
    "### (1b)\n",
    "\n",
    "#### Heuristic function\n",
    "\n",
    "Define a function to take as an argument the `state` that Snake is in (city on our graphs), and return as output the value of the straight-line distance heuristic, between Snake's `state` and Providence.  Note that your function should be quite short, and amounts to looking up the proper value from the `sld_providence` dictionary defined in the [helper functions](#helper).  Call this function `heuristic_sld_providence`.\n",
    "\n",
    "This might seem sort of silly right now, but it will make your codes much easier to adapt in Problem 2."
   ]
  },
  {
   "cell_type": "code",
   "execution_count": null,
   "metadata": {},
   "outputs": [],
   "source": [
    "def heuristic_sld_providence(state):\n",
    "    # Always trying to get to providence so just hard code that in...?\n",
    "    # Also seems that the straight lines from any given location have alreay been calculated\n",
    "    return sld_providence[state]\n",
    "    "
   ]
  },
  {
   "cell_type": "markdown",
   "metadata": {},
   "source": [
    "#### Unit tests"
   ]
  },
  {
   "cell_type": "code",
   "execution_count": null,
   "metadata": {},
   "outputs": [],
   "source": [
    "tests_to_run = unittest.TestSuite()\n",
    "tests_to_run.addTest(Tests_Problem1(\"test_sld_providence\"))\n",
    "unittest.TextTestRunner().run(tests_to_run)"
   ]
  },
  {
   "cell_type": "markdown",
   "metadata": {},
   "source": [
    "<br>\n",
    "\n",
    "<a/ id='p1c'></a>\n",
    "\n",
    "### (1c)\n",
    "\n",
    "#### Full-blown A\\* search\n",
    "\n",
    "We are finally ready to help Snake use his knowledge of straight-line distances from various cities to Providence to inform his path-finding from Chicago to Providence!\n",
    "\n",
    "Modify your uniform-cost search codes from **(1a)** even further so that they now perform **A\\* search**, using as the heuristic function the straight-line distance to Providence.\n",
    "\n",
    "Provide `heuristic` as an additional argument, which should just be the function name to call within the A\\* code. So your call to the A\\* routine should look like:  `astar_search(start, goal, state_graph, heuristic, return_cost, return_nexp)`.  (This kind of modular programming will make it much easier to swap in alternative heuristic functions later, and also helps to facilitate debugging if something goes wrong.)"
   ]
  },
  {
   "cell_type": "code",
   "execution_count": null,
   "metadata": {
    "collapsed": true
   },
   "outputs": [],
   "source": [
    "# Thanks for providing a solution from hw2.\n",
    "\n",
    "class Frontier_PQ:\n",
    "    ''' frontier class for uniform search, ordered by path cost '''\n",
    "    \n",
    "    def __init__(self, start, cost):\n",
    "        self.states = {}             # How my states link together\n",
    "        self.q = []                  # My queue this algorithm (A heap)\n",
    "        self.add(start, cost)        # initialize my first location on the heap\n",
    "        #self.expanded = 0            # Keeps track of n/m states that have been expanded (not visited)\n",
    "        \n",
    "    def add(self, state, cost):\n",
    "        ''' push the new state and cost to get there onto the heap'''\n",
    "        heapq.heappush(self.q, (cost, state))       # The heap helps create a tree to organize our path\n",
    "        self.states[state] = cost                   # Everytime I add to heap also add to states\n",
    "        #self.expanded += 1\n",
    "\n",
    "    def pop(self):\n",
    "        (cost, state) = heapq.heappop(self.q)  # get cost of getting to explored state\n",
    "        self.states.pop(state)    # and remove from frontier\n",
    "        return (cost, state)\n",
    "\n",
    "    def replace(self, state, cost):\n",
    "        ''' found a cheaper route to `state`, replacing old cost with new `cost` '''\n",
    "        self.states[state] = cost\n",
    "        for i, (oldcost, oldstate) in enumerate(self.q):\n",
    "            if oldstate==state and oldcost > cost:\n",
    "                self.q[i] = (cost, state)\n",
    "                heapq._siftdown(self.q, 0, i) # now i is posisbly out of order; restore\n",
    "        return\n",
    "    \n",
    "    \n",
    "def astar_search(start, goal, state_graph,heuristic=heuristic_sld_providence, return_cost=False,return_nexp=False):\n",
    "    frontier = Frontier_PQ(start, heuristic(start))\n",
    "    previous = {start : None}\n",
    "    explored = {}\n",
    "    expanded=1\n",
    "    while frontier:\n",
    "        s= frontier.pop()\n",
    "        if s[1] == goal:\n",
    "            print(\"exp\",expanded)  # Think I could have written this better, but I need to get this done today..\n",
    "            if return_cost and return_nexp: return path(previous, s[1]), s[0], expanded\n",
    "            if return_cost and not return_nexp: return path(previous, s[1]), s[0]\n",
    "            if return_nexp and not return_cost: return path(previous, s[1]), expanded\n",
    "            return path(previous, s[1])\n",
    "        explored[s[1]] = s[0]-heuristic(s[1])\n",
    "        expanded+=1\n",
    "        for s2 in state_graph[s[1]]:\n",
    "            newcost = explored[s[1]]+state_graph[s[1]][s2]+heuristic(s2)\n",
    "            if (s2 not in explored) and (s2 not in frontier.states):\n",
    "                frontier.add(s2, newcost)\n",
    "                previous[s2] = s[1]\n",
    "            elif (s2 in frontier.states) and (frontier.states[s2] > newcost):\n",
    "                frontier.replace(s2, newcost)\n",
    "                previous[s2] = s[1]\n",
    "\n"
   ]
  },
  {
   "cell_type": "markdown",
   "metadata": {},
   "source": [
    "#### Unit tests"
   ]
  },
  {
   "cell_type": "code",
   "execution_count": null,
   "metadata": {},
   "outputs": [],
   "source": [
    "tests_to_run = unittest.TestSuite()\n",
    "tests_to_run.addTest(Tests_Problem1(\"test_astar_path\"))\n",
    "tests_to_run.addTest(Tests_Problem1(\"test_astar_cost\"))\n",
    "tests_to_run.addTest(Tests_Problem1(\"test_astar_nexp\"))\n",
    "unittest.TextTestRunner().run(tests_to_run)"
   ]
  },
  {
   "cell_type": "markdown",
   "metadata": {},
   "source": [
    "<br>\n",
    "\n",
    "<a/ id='p1d'></a>\n",
    "\n",
    "### (1d)\n",
    "\n",
    "Snake has already made it to Buffalo on his own, but he is growing weary.  There were ***so*** many sea lions along the way, and he had to stop and admire their grace and beauty.  Use your A\\* search code from **(1c)** to help Snake find the optimal path **by distance traveled** the rest of the way to Providence.  Print to the screen the following:\n",
    "1. the optimal path\n",
    "2. the optimal path cost (miles traveled)\n",
    "3. the number of states expanded during the A\\* search\n",
    "\n",
    "Additionally, show below how many states must be expanded to find the optimal path from Buffalo to Providence using the regular old uniform-cost search algorithm from **(1a)**.  Comment on the difference in states that must be explored by each algorithm.\n",
    "\n",
    "**Sanity check:** No matter what your `start` and `goal` states are, how should the output from `astar_search` and `uniform_cost` search compare?"
   ]
  },
  {
   "cell_type": "code",
   "execution_count": null,
   "metadata": {},
   "outputs": [],
   "source": [
    "start='buf'\n",
    "goal='pro'\n",
    "state_graph=map_distances\n",
    "\n",
    "path_A, cost_A, nexp_A = astar_search(start, goal, state_graph,heuristic=heuristic_sld_providence, return_cost=True,return_nexp=True)\n",
    "\n",
    "print(\"1. the optimal path: \",path_A)\n",
    "print(\"2. the optimal path cost: \",cost_A)\n",
    "print(\"3. the number of states expanded during the A* search: \",nexp_A)\n",
    "\n",
    "path_U, cost_U, nexp_U = uniform_cost(start, goal, state_graph, return_cost=True,return_nexp=True)\n",
    "\n",
    "print(\"1. the optimal path: \",path_U)\n",
    "print(\"2. the optimal path cost: \",cost_U)\n",
    "print(\"3. the number of states expanded during the UCS search: \",nexp_U)\n",
    "\n",
    "\n"
   ]
  },
  {
   "cell_type": "markdown",
   "metadata": {},
   "source": [
    "<br>\n",
    "\n",
    "<a/ id='p1e'></a>\n",
    "\n",
    "### (1e)\n",
    "\n",
    "How many states are expanded by each of A\\* search and uniform cost search, to find the optimal path **from Philadelphia to Providence**?"
   ]
  },
  {
   "cell_type": "code",
   "execution_count": null,
   "metadata": {},
   "outputs": [],
   "source": [
    "start='phi'\n",
    "goal='pro'\n",
    "state_graph=map_distances\n",
    "\n",
    "path_A, cost_A, nexp_A = astar_search(start, goal, state_graph,heuristic=heuristic_sld_providence, return_cost=True,return_nexp=True)\n",
    "\n",
    "print(\"1. the optimal path: \",path_A)\n",
    "print(\"2. the optimal path cost: \",cost_A)\n",
    "print(\"3. the number of states expanded during the A* search: \",nexp_A)\n",
    "\n",
    "path_U, cost_U, nexp_U = uniform_cost(start, goal, state_graph, return_cost=True,return_nexp=True)\n",
    "\n",
    "print(\"1. the optimal path: \",path_U)\n",
    "print(\"2. the optimal path cost: \",cost_U)\n",
    "print(\"3. the number of states expanded during the UCS search: \",nexp_U)"
   ]
  },
  {
   "cell_type": "markdown",
   "metadata": {},
   "source": [
    "You should find that uniform cost search has explored more states than A\\* search.  Name the city/cities corresponding to the additional state expansions, and a brief justification for how you know these are being explored.\n",
    "\n",
    "The difference is 2:\n",
    "1. Is Baltamore('bal') - because with Uniform Search after we visit New York the cost to go to 'bal' is less than going to Providence due to 'pro' from 'phi' is 101 while cost from 'phi' to 'pro' Going through new york is 278. So we check the shortest path, 'phi'->'bal'\n",
    "2. Is Syracuse('syr') - because, similar to the above reason, distance from 'phi'->'syr' is 253 which is still less that 278 as shown above and thus it is check before the path to the goal.\n"
   ]
  },
  {
   "cell_type": "code",
   "execution_count": null,
   "metadata": {
    "collapsed": true
   },
   "outputs": [],
   "source": []
  },
  {
   "cell_type": "markdown",
   "metadata": {},
   "source": [
    "<br>\n",
    "\n",
    "---\n",
    "\n",
    "<br>\n",
    "\n",
    "[Back to top](#top)\n",
    "\n",
    "<a/ id='p2'></a>\n",
    "\n",
    "![8tile](http://www.8puzzle.com/images/8_puzzle_goal_state_b.png)\n",
    "\n",
    "## Problem 2\n",
    "\n",
    "### 8-tile puzzle\n",
    "\n",
    "Consider the 8-tile puzzle, as discussed in class.  The goal state is illustrated in the figure above, and the rest of the state space is obtained by sliding a numbered tile in the plane of the puzzle into the blank spot.  We can use a 0 to represent the blank space, and represent the state of an 8-tile puzzle board as a `numpy` array as follows:"
   ]
  },
  {
   "cell_type": "code",
   "execution_count": 4,
   "metadata": {},
   "outputs": [
    {
     "name": "stdout",
     "output_type": "stream",
     "text": [
      "Goal state is:\n",
      "[[0 1 2]\n",
      " [3 4 5]\n",
      " [6 7 8]]\n"
     ]
    }
   ],
   "source": [
    "goal = np.array([[0,1,2],[3,4,5],[6,7,8]])\n",
    "print('Goal state is:\\n{}'.format(goal))"
   ]
  },
  {
   "cell_type": "markdown",
   "metadata": {},
   "source": [
    "<br>\n",
    "\n",
    "<a/ id='p2a'></a>\n",
    "\n",
    "### (2a)\n",
    "\n",
    "Design two heuristic functions to return the **Manhattan distance** heuristic and the **number of misplaced tiles** heuristic.  These functions should be called `heuristic_manhattan` and `heuristic_misplaced`, and:\n",
    "* take two `numpy` array arguments, `state` and `goal`\n",
    "* `state` is the current state of an 8-tile board,\n",
    "* `goal` is the goal state to measure against,\n",
    "* return the appropriate heuristic value (Manhattan distance or misplaced tiles) for the estimated distance of the given `state` to the `goal`"
   ]
  },
  {
   "cell_type": "code",
   "execution_count": 5,
   "metadata": {},
   "outputs": [
    {
     "name": "stdout",
     "output_type": "stream",
     "text": [
      "Test state is:\n",
      "[[0 4 2]\n",
      " [1 3 5]\n",
      " [6 7 8]]\n",
      "Goal state is:\n",
      "[[0 1 2]\n",
      " [3 4 5]\n",
      " [6 7 8]]\n"
     ]
    }
   ],
   "source": [
    "state_test = np.array([[0,4,2],[1,3,5],[6,7,8]])\n",
    "goal = np.array([[0,1,2],[3,4,5],[6,7,8]])\n",
    "\n",
    "print('Test state is:\\n{}'.format(state_test))\n",
    "print('Goal state is:\\n{}'.format(goal))\n",
    "\n",
    "\n",
    "def heuristic_manhattan(state,goal):\n",
    "    m,n = np.shape(state)\n",
    "    cStart = {}               # Using dicts for quick sorting to get coordiantes\n",
    "    cGoal = {}\n",
    "    disp = []\n",
    "    for i in range(1,m+1):       # Choosing these dimensions so that the grid starts at (1,1) not (0,0) and top left is start\n",
    "        for j in range(1,n+1):   # x-coord(i) and y-coord(j)\n",
    "            cStart[state_test[i-1,j-1]]=[i,j]\n",
    "            cGoal[goal[i-1,j-1]]=[i,j]\n",
    "    for i in cStart.keys():    # Make sure to look at each value\n",
    "        disp.append(cStart[i][0]-cGoal[i][0])    # Append the x-coordiante disp for each value\n",
    "        disp.append(cStart[i][1]-cGoal[i][1])    # Append the y-coordinate disp for each value\n",
    "    return np.sum(np.abs(disp))\n",
    "\n",
    "\n",
    "def heuristic_misplaced(state,goal):\n",
    "    return np.sum(state_test != goal)\n",
    "\n",
    "######################\n",
    "# Just testing stuff #\n",
    "######################\n",
    "\n",
    "#print(heuristic_manhattan(state_test, goal))\n",
    "\n",
    "\n",
    "## Making dicts to compare key = value, item = coordinate\n",
    "## So I think there is a much better way to do this, but I'm tired and just need to get this assignment done.\n",
    "## I should ask later though...\n",
    "#\n",
    "#cStart = {}\n",
    "#cGoal = {}\n",
    "#tmp = []\n",
    "#for i in range(1,4):\n",
    "#    for j in range(1,4):\n",
    "#        cStart[state_test[i-1,j-1]]=[i,j]\n",
    "#        cGoal[goal[i-1,j-1]]=[i,j]\n",
    "#        # Now to take difference as I have hash collisions:\n",
    "#for i in cStart.keys():\n",
    "#    tmp.append(cStart[i][0]-cGoal[i][0])\n",
    "#    tmp.append(cStart[i][1]-cGoal[i][1])\n",
    "#print(tmp)            \n",
    "#        \n",
    "# This shows that I can see the correct displacment\n",
    "##for i in cStart.keys():\n",
    "#    print(cStart[i],cGoal[i])\n",
    "#    \n",
    "## Now trying to simplify this a lot... I want to do it all in 2 loops\n",
    "\n",
    "\n",
    "\n"
   ]
  },
  {
   "cell_type": "markdown",
   "metadata": {},
   "source": [
    "#### Unit tests"
   ]
  },
  {
   "cell_type": "code",
   "execution_count": 6,
   "metadata": {},
   "outputs": [
    {
     "name": "stderr",
     "output_type": "stream",
     "text": [
      "..\n",
      "----------------------------------------------------------------------\n",
      "Ran 2 tests in 0.005s\n",
      "\n",
      "OK\n"
     ]
    },
    {
     "data": {
      "text/plain": [
       "<unittest.runner.TextTestResult run=2 errors=0 failures=0>"
      ]
     },
     "execution_count": 6,
     "metadata": {},
     "output_type": "execute_result"
    }
   ],
   "source": [
    "tests_to_run = unittest.TestSuite()\n",
    "tests_to_run.addTest(Tests_Problem2(\"test_manhattan\"))\n",
    "tests_to_run.addTest(Tests_Problem2(\"test_misplaced\"))\n",
    "unittest.TextTestRunner().run(tests_to_run)"
   ]
  },
  {
   "cell_type": "markdown",
   "metadata": {},
   "source": [
    "<br>\n",
    "\n",
    "<a/ id='p2b'></a>\n",
    "\n",
    "### (2b)\n",
    "\n",
    "#### Is this puzzle even solvable??\n",
    "\n",
    "It turns out that some arrangements of those 8 tiles are not possible to solve into the `goal` state given above. We would like to be able to check whether or not a given 8-tile puzzle board is solvable.\n",
    "\n",
    "Suppose you take the tiles of any given 8-tile puzzle board and arranged them in a single row, with the first row coming in order first, then the second row in order, and finally the third row in order.  So the goal state would be [1,2,3,4,5,6,7,8]. Another possible state is:"
   ]
  },
  {
   "cell_type": "code",
   "execution_count": 7,
   "metadata": {},
   "outputs": [
    {
     "data": {
      "text/plain": [
       "array([[1, 4, 2],\n",
       "       [3, 0, 5],\n",
       "       [6, 7, 8]])"
      ]
     },
     "execution_count": 7,
     "metadata": {},
     "output_type": "execute_result"
    }
   ],
   "source": [
    "state_test = np.array([[1,4,2],[3,0,5],[6,7,8]])\n",
    "state_test"
   ]
  },
  {
   "cell_type": "markdown",
   "metadata": {},
   "source": [
    "The state `state_test` is found by sliding the 1 tile to the blank spot, then sliding the 4 tile up to take the position formerly occupied by the 1 tile.  When we rearrange this state into a row, we obtain [1,4,2,3,5,6,7,8].\n",
    "\n",
    "We define an **inverted tile pair** to be a pair of tiles in the row representation of the puzzle that is out of order relative to the goal state. That is, each occurrence of a tile that has a higher value than another tile later in the row counts as an inversion.  So `state_test` has **two** inversions:  4 and 2, and 4 and 3.\n",
    "\n",
    "We define the **parity** of an 8-tile board to be the number of inversions in the puzzle board.  So the parity of `state_test` is 2, and the parity of `goal` is 0. An 8-tile puzzle board may be rearranged (within the rules of the game) into another board if the two boards have the same parity. So it would be very handy if we had a function to check whether or not an arbitrary arrangement of those 8 tiles can be solved for a given `goal` state.\n",
    "\n",
    "Write a function `check_parity(state1, state2)`:\n",
    "* take as arguments two `numpy` arrays representing 8-tile boards, `state1` and `state2`\n",
    "* return `True` if the two boards have the same parity and `False` otherwise"
   ]
  },
  {
   "cell_type": "code",
   "execution_count": 8,
   "metadata": {},
   "outputs": [
    {
     "name": "stdout",
     "output_type": "stream",
     "text": [
      "[4 2 1 3 5 6 7 8]\n",
      "[1 2 3 4 5 6 7 8]\n",
      "par1 4 par2 0\n"
     ]
    }
   ],
   "source": [
    "def check_parity(state1,state2):\n",
    "    par1=0\n",
    "    par2=0\n",
    "    state1 = state1[state1>0]\n",
    "    print(state1)\n",
    "    state2 = state2[state2>0]\n",
    "    print(state2)\n",
    "    for i in range(len(state1)):\n",
    "        par1 += np.sum( state1[i:] < state1[i] )  # So ideally this should take the sum of all values less than i\n",
    "                                              # for the state array after the i-th element\n",
    "        par2 += np.sum( state2[i:] < state2[i] )\n",
    "    print(\"par1\",par1,\"par2\",par2)\n",
    "    return True if par1==par2 else False\n",
    "        \n",
    "# Just testing out my thoughts below #\n",
    "\n",
    "#state_test1 = state_test[state_test>0]\n",
    "#print(state_test1)\n",
    "#np.sum(state_test > 5)\n",
    "\n",
    "\n",
    "#check_parity(state_test,state_test)\n",
    "state_test = np.array([[0,4,2],[1,3,5],[6,7,8]])\n",
    "goal = np.array([[0,1,2],[3,4,5],[6,7,8]])\n",
    "check_parity(state_test, goal)  # Should be True\n",
    "\n",
    "state_test = np.array([[0,2,1],[3,4,5],[6,7,8]])\n",
    "goal = np.array([[0,1,2],[3,4,5],[6,7,8]])\n",
    "#assertFalse(check_parity(state_test, goal))\n",
    "\n",
    "\n"
   ]
  },
  {
   "cell_type": "markdown",
   "metadata": {},
   "source": [
    "#### Unit tests"
   ]
  },
  {
   "cell_type": "code",
   "execution_count": 9,
   "metadata": {},
   "outputs": [
    {
     "name": "stderr",
     "output_type": "stream",
     "text": [
      "."
     ]
    },
    {
     "name": "stdout",
     "output_type": "stream",
     "text": [
      "[2 1 3 4 5 6 7 8]\n",
      "[1 2 3 4 5 6 7 8]\n",
      "par1 1 par2 0\n"
     ]
    },
    {
     "name": "stderr",
     "output_type": "stream",
     "text": [
      "\n",
      "----------------------------------------------------------------------\n",
      "Ran 1 test in 0.017s\n",
      "\n",
      "OK\n"
     ]
    },
    {
     "data": {
      "text/plain": [
       "<unittest.runner.TextTestResult run=1 errors=0 failures=0>"
      ]
     },
     "execution_count": 9,
     "metadata": {},
     "output_type": "execute_result"
    }
   ],
   "source": [
    "tests_to_run = unittest.TestSuite()\n",
    "#tests_to_run.addTest(Tests_Problem2(\"test_parity_true\"))\n",
    "tests_to_run.addTest(Tests_Problem2(\"test_parity_false\"))\n",
    "unittest.TextTestRunner().run(tests_to_run)"
   ]
  },
  {
   "cell_type": "markdown",
   "metadata": {},
   "source": [
    "<br>\n",
    "\n",
    "<a/ id='p2c'></a>\n",
    "\n",
    "### (2c)\n",
    "\n",
    "Because your instructor is such a swell guy, the `map_distances` and `map_times` graphs were nicely defined. This meant that finding the successors of a given city in the route-finding homework problems amounted to looking up the values of that key in a dictionary. For the 8-tile problem, however, we do **not** want to try to build the entire state space graph in memory! Even if we can, it's just such a pain.\n",
    "\n",
    "Instead, let's write a function `adjacent_states`:\n",
    "* take a single input argument `state`, which is a `numpy` array representing an 8-tile board arrangement\n",
    "* return as output a list of `numpy` arrays that are the states one move away from the input `state`\n",
    "\n",
    "For example, if you run `adjacent_states(goal)`, the expected output should be\n",
    "\n",
    "`[array([[3, 1, 2], [0, 4, 5], [6, 7, 8]]),\n",
    " array([[1, 0, 2], [3, 4, 5], [6, 7, 8]])]`\n",
    "\n",
    "which are the states obtained from the `goal` state by sliding the 3 tile up and by sliding the 1 tile to the left, respectively."
   ]
  },
  {
   "cell_type": "code",
   "execution_count": 68,
   "metadata": {},
   "outputs": [
    {
     "name": "stdout",
     "output_type": "stream",
     "text": [
      "[[0 1 2]\n",
      " [3 4 5]\n",
      " [6 7 8]]\n",
      "[[3 1 2]\n",
      " [0 4 5]\n",
      " [6 7 8]]\n",
      "((3, 1, 2), (0, 4, 5), (6, 7, 8))\n",
      "[[3 1 2]\n",
      " [0 4 5]\n",
      " [6 7 8]]\n"
     ]
    },
    {
     "data": {
      "text/plain": [
       "{((3, 1, 2), (0, 4, 5), (6, 7, 8)): ((1, 0, 2), (3, 4, 5), (6, 7, 8))}"
      ]
     },
     "execution_count": 68,
     "metadata": {},
     "output_type": "execute_result"
    }
   ],
   "source": [
    "def adjacent_states(state):\n",
    "    m,n = np.shape(state)   # Just encase I want to try and expand this to larger dimensions\n",
    "    y,x = np.where(state==0)\n",
    "    #print(y,x)\n",
    "    #print(state)\n",
    "    # To tired so I will be writing this out a lot...\n",
    "    up = y-1      # Up and down are inverted due to my grid origin being top-left.. which is why at midnight it's hard to think about lol\n",
    "    down = y+1\n",
    "    left = x-1\n",
    "    right = x+1\n",
    "    steps = []\n",
    "    if up>=0:\n",
    "        stateUP = np.copy(state)\n",
    "        stateUP[y,x] = state[up,x]\n",
    "        stateUP[up,x] = 0\n",
    "        steps.append(stateUP)\n",
    "    if left>=0:\n",
    "        stateL = np.copy(state)\n",
    "        stateL[y,x] = state[y,left]\n",
    "        stateL[y,left] = 0\n",
    "        steps.append(stateL)\n",
    "    if down<=2:\n",
    "        stateDown = np.copy(state)\n",
    "        stateDown[y,x] = state[down,x]\n",
    "        stateDown[down,x] = 0\n",
    "        steps.append(stateDown)\n",
    "    if right<=2:\n",
    "        stateR = np.copy(state)\n",
    "        stateR[y,x] = state[y,right]\n",
    "        stateR[y,right] = 0\n",
    "        steps.append(stateR)\n",
    "    return steps\n",
    "    \n",
    "print(goal)\n",
    "\n",
    "tmp = adjacent_states(goal)\n",
    "print(tmp[0])\n",
    "#print(tmp[1])\n",
    "\n",
    "testing0 = tuple(map(tuple,tmp[0]))\n",
    "testing1 = tuple(map(tuple,tmp[1]))\n",
    "print(testing0)\n",
    "#testing2 = np.array(map(np.array,testing))\n",
    "#print(testing2)\n",
    "testing2 = np.array(testing0)\n",
    "\n",
    "print(testing2)\n",
    "# Four cases:\n",
    "# 1. I can swap 0 and up\n",
    "# 2. I can swap 0 and down\n",
    "# 3. I can swap 0 and left\n",
    "# 4. I can swap 0 and right\n",
    "\n",
    "testDict={}\n",
    "testDict[testing0]=testing1\n",
    "\n",
    "testDict"
   ]
  },
  {
   "cell_type": "markdown",
   "metadata": {},
   "source": [
    "#### Unit tests"
   ]
  },
  {
   "cell_type": "code",
   "execution_count": 69,
   "metadata": {},
   "outputs": [
    {
     "name": "stderr",
     "output_type": "stream",
     "text": [
      ".\n",
      "----------------------------------------------------------------------\n",
      "Ran 1 test in 0.002s\n",
      "\n",
      "OK\n"
     ]
    },
    {
     "data": {
      "text/plain": [
       "<unittest.runner.TextTestResult run=1 errors=0 failures=0>"
      ]
     },
     "execution_count": 69,
     "metadata": {},
     "output_type": "execute_result"
    }
   ],
   "source": [
    "tests_to_run = unittest.TestSuite()\n",
    "tests_to_run.addTest(Tests_Problem2(\"test_adjacent\"))\n",
    "unittest.TextTestRunner().run(tests_to_run)"
   ]
  },
  {
   "cell_type": "markdown",
   "metadata": {},
   "source": [
    "<br>\n",
    "\n",
    "<a/ id='p2d'></a>\n",
    "\n",
    "### (2d)\n",
    "\n",
    "Modify your **A\\* search** from above so that instead of looking in the graphs `map_distances` or `map_times` for the successor states, it generates them on the fly using your shiny new `adjacent_states` routine from **(2c)**. \n",
    "\n",
    "Some notes:\n",
    "* You may run into some problems with using the `numpy` arrays to represent states. One potential solution is to convert these arrays to/from tuples, as needed. This is not the only solution.\n",
    "* When you start to test your code, be sure to begin with simple test cases that you know are only a few moves away from the goal state.\n",
    "* Be sure to implement a check to make sure the initial state is solvable for the given goal state!  And do not hard-code the goal state given above.\n",
    "* You may need to modify how path costs are added up and returned. The returned cost of the solution path ought to be the number of **moves** needed to solve the puzzle, which is one less than the number of states on the solution path.\n",
    "* Depending on how you implemented your Frontier Priority Queue, you may or may not need to make modifications to it. My implementation did not require any modification."
   ]
  },
  {
   "cell_type": "code",
   "execution_count": 88,
   "metadata": {},
   "outputs": [],
   "source": [
    "# Thanks for providing a solution from hw2.\n",
    "\n",
    "class Frontier_PQ:\n",
    "    ''' frontier class for uniform search, ordered by path cost '''\n",
    "    \n",
    "    def __init__(self, start, cost):\n",
    "        self.states = {}             # How my states link together\n",
    "        self.q = []                  # My queue this algorithm (A heap)\n",
    "        self.add(start, cost)        # initialize my first location on the heap\n",
    "        #self.expanded = 0            # Keeps track of n/m states that have been expanded (not visited)\n",
    "        \n",
    "    def add(self, state, cost):\n",
    "        ''' push the new state and cost to get there onto the heap'''\n",
    "        heapq.heappush(self.q, (cost, state))       # The heap helps create a tree to organize our path\n",
    "        self.states[state] = cost                   # Everytime I add to heap also add to states\n",
    "        #self.expanded += 1\n",
    "\n",
    "    def pop(self):\n",
    "        (cost, state) = heapq.heappop(self.q)  # get cost of getting to explored state\n",
    "        self.states.pop(state)    # and remove from frontier\n",
    "        return (cost, state)\n",
    "\n",
    "    def replace(self, state, cost):\n",
    "        ''' found a cheaper route to `state`, replacing old cost with new `cost` '''\n",
    "        self.states[state] = cost\n",
    "        for i, (oldcost, oldstate) in enumerate(self.q):\n",
    "            if oldstate==state and oldcost > cost:\n",
    "                self.q[i] = (cost, state)\n",
    "                heapq._siftdown(self.q, 0, i) # now i is posisbly out of order; restore\n",
    "        return\n",
    "\n",
    "    \n",
    "    \n",
    "    \n",
    "    \n",
    "def astar_8tile(start, goal, state_graph=adjacent_states,heuristic=heuristic_manhattan, return_cost=False,return_nexp=False):\n",
    "    frontier = Frontier_PQ(tuple(map(tuple,start)), heuristic(start,goal))  # Heuristic is fine, start and goal are still np\n",
    "    previous = {tuple(map(tuple,start)) : None}\n",
    "    explored = {}\n",
    "    expanded=1\n",
    "    while frontier:\n",
    "        s= frontier.pop()\n",
    "        if np.all(np.array(s[1]) == goal):\n",
    "            #print(np.all(np.array(s[1]) == goal))\n",
    "            #print(np.array(s[1]) == goal)\n",
    "            #print(\"exp\",expanded)  # Think I could have written this better, but I need to get this done today..\n",
    "            \n",
    "            if return_cost and return_nexp: return path(previous, s[1]), s[0], expanded\n",
    "            if return_cost and not return_nexp: return path(previous, s[1]), s[0]\n",
    "            if return_nexp and not return_cost: return path(previous, s[1]), expanded\n",
    "            return path(previous, s[1])\n",
    "        explored[tuple(map(tuple,s[1]))] = s[0]-heuristic(np.array(s[1]),goal) # s[1] from frontier so it is tuple...\n",
    "        expanded+=1\n",
    "        new_states = state_graph(np.array(s[1]))\n",
    "        for s1 in new_states:\n",
    "            s2 = tuple(map(tuple,np.copy(s1)))\n",
    "            #print(np.array(s2))\n",
    "            # s2 and s[1] here should both be a tuple:\n",
    "            #print(\"s2\",type(s2),\"s[1]\",type(s[1]))\n",
    "            newcost = explored[tuple(map(tuple,s[1]))]+heuristic(np.array(np.copy(s2)),goal)+1 # Every step is a cost of 1# Need to correct this cost -> state_graph(np.array(s[1])) # Make sure use of s[1] and s2 are turned to arrays\n",
    "            if (s2 not in explored) and (s2 not in frontier.states):\n",
    "                frontier.add(s2, newcost)\n",
    "                previous[s2] = s[1]\n",
    "            elif (s2 in frontier.states) and (frontier.states[s2] > newcost):\n",
    "                frontier.replace(s2, newcost)\n",
    "                previous[s2] = s[1]\n",
    "\n",
    "\n",
    "                \n",
    "# I'm getting multiple 0-tiles? what... I copied my arrays to be safe.. weird\n",
    "# Somewhere I have some kind of memory issue, I am not copying my arrays correctly and seem to be overwritting my array \n",
    "# Without correct replacement <- nope... had x,y in wrong spots on 2 of my cases for creating my adjacents...\n"
   ]
  },
  {
   "cell_type": "code",
   "execution_count": 89,
   "metadata": {
    "scrolled": true
   },
   "outputs": [
    {
     "name": "stdout",
     "output_type": "stream",
     "text": [
      "[[0 1 2]\n",
      " [3 4 5]\n",
      " [6 7 8]]\n",
      "[[1 4 2]\n",
      " [3 5 8]\n",
      " [6 7 0]]\n",
      "moves\n",
      "[[[1 4 2]\n",
      "  [3 5 8]\n",
      "  [6 7 0]]\n",
      "\n",
      " [[1 4 2]\n",
      "  [3 5 0]\n",
      "  [6 7 8]]\n",
      "\n",
      " [[1 4 2]\n",
      "  [3 0 5]\n",
      "  [6 7 8]]\n",
      "\n",
      " [[1 0 2]\n",
      "  [3 4 5]\n",
      "  [6 7 8]]\n",
      "\n",
      " [[0 1 2]\n",
      "  [3 4 5]\n",
      "  [6 7 8]]]\n"
     ]
    }
   ],
   "source": [
    "goal = np.array([[0,1,2],[3,4,5],[6,7,8]])\n",
    "state_test = np.array([[1,4,2],[3,5,8],[6,7,0]])\n",
    "moves, cost, nexp = astar_8tile(state_test, goal,state_graph=adjacent_states, heuristic=heuristic_manhattan, return_cost=True, return_nexp=True)\n",
    "\n",
    "moves\n",
    "print(goal)\n",
    "print(state_test)\n",
    "print(\"moves\")\n",
    "print(np.array(moves))"
   ]
  },
  {
   "cell_type": "markdown",
   "metadata": {},
   "source": [
    "#### Unit tests\n",
    "\n",
    "Note that this will fail if your output path (first output slot) is not one of (1) a list of tuples, or (2) a list of `numpy` arrays."
   ]
  },
  {
   "cell_type": "code",
   "execution_count": 91,
   "metadata": {},
   "outputs": [
    {
     "name": "stderr",
     "output_type": "stream",
     "text": [
      "F\n",
      "======================================================================\n",
      "FAIL: test_astar_8tile (__main__.Tests_Problem2)\n",
      "----------------------------------------------------------------------\n",
      "Traceback (most recent call last):\n",
      "  File \"<ipython-input-65-7c759587ea61>\", line 66, in test_astar_8tile\n",
      "    self.assertEqual(cost, 4)\n",
      "AssertionError: 12 != 4\n",
      "\n",
      "----------------------------------------------------------------------\n",
      "Ran 1 test in 0.018s\n",
      "\n",
      "FAILED (failures=1)\n"
     ]
    }
   ],
   "source": [
    "tests_to_run = unittest.TestSuite()\n",
    "tests_to_run.addTest(Tests_Problem2(\"test_astar_8tile\"))\n",
    "unittest.TextTestRunner().run(tests_to_run)\n",
    "\n",
    "\n",
    "\n",
    "answer = {((1, 0, 5), (3, 2, 4), (6, 7, 8)),\n",
    "          ((1, 2, 5), (0, 3, 4), (6, 7, 8)),\n",
    "          ((1, 2, 5), (3, 4, 0), (6, 7, 8)),\n",
    "          ((1, 2, 5), (3, 7, 4), (6, 0, 8))}"
   ]
  },
  {
   "cell_type": "markdown",
   "metadata": {},
   "source": [
    "<br>\n",
    "\n",
    "<a/ id='p2e'></a>\n",
    "\n",
    "### (2e)\n",
    "\n",
    "#### We need to generate some puzzles to test this out!\n",
    "\n",
    "Create a function `generate_puzzle(goal, n_moves)` to generate a solvable 8-tile puzzle by making `n_moves` random moves, starting from the `goal` state.\n",
    "* `goal` argument is a `numpy` array representing a valid 8-tile puzzle\n",
    "* `n_moves` is a positive integer argument.  For each of `n_moves` iterations, generate the set of all legal 8-tile puzzle moves (you might already have a nice function for this...) and select one at random.\n",
    "* When you generate the set of possible adjacent states to move to, remove any of the previous states from the list of possibilities.  This will avoid \"undoing\" any of the moves you've made to mix up the tiles, which is important because the point of this function is to generate tough puzzles for our codes to solve.\n",
    "* return as output a tuple:\n",
    "  * first element is the puzzle itself (as a `numpy` array)\n",
    "  * second element is the list of previous states, so you can see the list of moves made to generate this puzzle.  This will be helpful for checking if our A\\* codes are finding the correct solutions."
   ]
  },
  {
   "cell_type": "code",
   "execution_count": null,
   "metadata": {
    "collapsed": true
   },
   "outputs": [],
   "source": []
  },
  {
   "cell_type": "markdown",
   "metadata": {},
   "source": [
    "**Important question:** If you generate more complex puzzles (think 20 or more moves), there's a nontrivial probability that your A\\* search routine will be able to find a solution in *fewer* moves than the `n_moves` argument you supplied to `generate_puzzle` to create that very puzzle.\n",
    "1. Verify that this is the case with at least one example.\n",
    "2. Explain why this is the case."
   ]
  },
  {
   "cell_type": "code",
   "execution_count": null,
   "metadata": {
    "collapsed": true
   },
   "outputs": [],
   "source": []
  },
  {
   "cell_type": "markdown",
   "metadata": {},
   "source": [
    "#### Unit tests\n",
    "\n",
    "Note that these won't work unless your A\\* search and heuristic functions are working."
   ]
  },
  {
   "cell_type": "code",
   "execution_count": null,
   "metadata": {
    "collapsed": true
   },
   "outputs": [],
   "source": [
    "tests_to_run = unittest.TestSuite()\n",
    "tests_to_run.addTest(Tests_Problem2(\"test_generate1\"))\n",
    "tests_to_run.addTest(Tests_Problem2(\"test_generate2\"))\n",
    "unittest.TextTestRunner().run(tests_to_run)"
   ]
  },
  {
   "cell_type": "markdown",
   "metadata": {},
   "source": [
    "<br>\n",
    "\n",
    "<a/ id='p2f'></a>\n",
    "\n",
    "### (2f)\n",
    "\n",
    "Generate 8-tiles puzzles varying in complexity in number of moves for the optimal solution, ranging from 10 moves to at least 25 moves.  Solve each puzzle twice using A\\* search:  once using the Manhattan distance heuristic, and once using the misplaced tiles heuristic.  Keep track of:\n",
    "1. the number of moves in the optimal solution path for each puzzle,\n",
    "2. the number of states explored by A\\* search using the Manhattan distance heuristic, and\n",
    "3. the number of states explored by A\\* search using the number of misplaced tiles heuristic.\n",
    "\n",
    "In light of your answer to **(2e)**, it might be difficult to reliably generate the more complex puzzles.  As long as there are at least two puzzles that require at least 20 moves to solve, you have satisfied the problem requirements.\n",
    "\n",
    "Note that you could put some `while` loops in here (for example) to make sure you get puzzles with all of the requisite solution path lengths. I don't really care if you do or not."
   ]
  },
  {
   "cell_type": "code",
   "execution_count": null,
   "metadata": {
    "collapsed": true
   },
   "outputs": [],
   "source": []
  },
  {
   "cell_type": "markdown",
   "metadata": {},
   "source": [
    "Now generate a plot of the number of states explored by A\\* search using each heuristic, as a function of the number of moves along the optimal solution path. Be sure to label everything clearly.  Write a sentence or two to comment on what you notice, and whether or not it is consistent with what we saw in class."
   ]
  },
  {
   "cell_type": "code",
   "execution_count": null,
   "metadata": {
    "collapsed": true
   },
   "outputs": [],
   "source": []
  },
  {
   "cell_type": "markdown",
   "metadata": {
    "collapsed": true
   },
   "source": [
    "<br><br><br>\n",
    "\n",
    "<a id='helpers'></a>\n",
    "\n",
    "---\n",
    "\n",
    "[Back to top](#top)\n",
    "\n",
    "## Some things that might be useful\n",
    "\n",
    "Easiest way to start:  Click this cell, go to \"Cell\" in the toolbar above, and click \"Run All Below\""
   ]
  },
  {
   "cell_type": "code",
   "execution_count": 1,
   "metadata": {
    "collapsed": true
   },
   "outputs": [],
   "source": [
    "import numpy as np\n",
    "import matplotlib.pyplot as plt\n",
    "import heapq\n",
    "import unittest"
   ]
  },
  {
   "cell_type": "markdown",
   "metadata": {},
   "source": [
    "## Potentially useful for searching"
   ]
  },
  {
   "cell_type": "code",
   "execution_count": 2,
   "metadata": {
    "collapsed": true
   },
   "outputs": [],
   "source": [
    "def path(previous, s): \n",
    "    '''\n",
    "    `previous` is a dictionary chaining together the predecessor state that led to each state\n",
    "    `s` will be None for the initial state\n",
    "    otherwise, start from the last state `s` and recursively trace `previous` back to the initial state,\n",
    "    constructing a list of states visited as we go\n",
    "    '''\n",
    "    if s is None:\n",
    "        return []\n",
    "    else:\n",
    "        return path(previous, previous[s])+[s]\n",
    "\n",
    "def pathcost(path, step_costs):\n",
    "    '''\n",
    "    add up the step costs along a path, which is assumed to be a list output from the `path` function above\n",
    "    '''\n",
    "    cost = 0\n",
    "    for s in range(len(path)-1):\n",
    "        cost += step_costs[path[s]][path[s+1]]\n",
    "    return cost\n",
    "\n",
    "map_distances = dict(\n",
    "    chi=dict(det=283, cle=345, ind=182),\n",
    "    cle=dict(chi=345, det=169, col=144, pit=134, buf=189),\n",
    "    ind=dict(chi=182, col=176),\n",
    "    col=dict(ind=176, cle=144, pit=185),\n",
    "    det=dict(chi=283, cle=169, buf=256),\n",
    "    buf=dict(det=256, cle=189, pit=215, syr=150),\n",
    "    pit=dict(col=185, cle=134, buf=215, phi=305, bal=247),\n",
    "    syr=dict(buf=150, phi=253, new=254, bos=312),\n",
    "    bal=dict(phi=101, pit=247),\n",
    "    phi=dict(pit=305, bal=101, syr=253, new=97),\n",
    "    new=dict(syr=254, phi=97, bos=215, pro=181),\n",
    "    pro=dict(bos=50, new=181),\n",
    "    bos=dict(pro=50, new=215, syr=312, por=107),\n",
    "    por=dict(bos=107))\n",
    "\n",
    "sld_providence = dict(\n",
    "    chi=833,\n",
    "    cle=531,\n",
    "    ind=782,\n",
    "    col=618,\n",
    "    det=596,\n",
    "    buf=385,\n",
    "    pit=458,\n",
    "    syr=253,\n",
    "    bal=325,\n",
    "    phi=236,\n",
    "    new=157,\n",
    "    pro=0,\n",
    "    bos=38,\n",
    "    por=136)"
   ]
  },
  {
   "cell_type": "markdown",
   "metadata": {},
   "source": [
    "## Unit tests"
   ]
  },
  {
   "cell_type": "code",
   "execution_count": 65,
   "metadata": {},
   "outputs": [],
   "source": [
    "class Tests_Problem1(unittest.TestCase):\n",
    "    def test_ucs_route(self):\n",
    "        path = uniform_cost('chi','new',map_distances,return_cost=False,return_nexp=False)\n",
    "        self.assertEqual(path, ['chi', 'cle', 'pit', 'phi', 'new'])\n",
    "    def test_ucs_cost(self):\n",
    "        path, cost = uniform_cost('chi','new',map_distances,return_cost=True,return_nexp=False)\n",
    "        self.assertEqual(cost, 881)\n",
    "    def test_ucs_nexp(self):\n",
    "        path, cost, nexp = uniform_cost('chi','new',map_distances,return_cost=True,return_nexp=True)\n",
    "        self.assertEqual(nexp, 11)\n",
    "    def test_sld_providence(self):\n",
    "        sld = heuristic_sld_providence('chi')\n",
    "        self.assertEqual(sld, 833)\n",
    "    def test_astar_path(self):\n",
    "        path = astar_search('pit','pro', map_distances, heuristic_sld_providence, return_cost=False, return_nexp=False)\n",
    "        self.assertEqual(path, ['pit', 'phi', 'new', 'pro'])\n",
    "    def test_astar_cost(self):\n",
    "        path, cost = astar_search('pit','pro', map_distances, heuristic_sld_providence, return_cost=True, return_nexp=False)\n",
    "        self.assertEqual(cost, 583)\n",
    "    def test_astar_nexp(self):\n",
    "        path, cost, nexp = astar_search('pit','pro', map_distances, heuristic_sld_providence, return_cost=True, return_nexp=True)\n",
    "        self.assertEqual(nexp, 5)\n",
    "        \n",
    "\n",
    "class Tests_Problem2(unittest.TestCase):\n",
    "    def test_manhattan(self):\n",
    "        state_test = np.array([[0,4,2],[1,3,5],[6,7,8]])\n",
    "        goal = np.array([[0,1,2],[3,4,5],[6,7,8]])\n",
    "        self.assertEqual(heuristic_manhattan(state_test, goal), 4)\n",
    "    def test_misplaced(self):\n",
    "        state_test = np.array([[0,4,2],[1,3,5],[6,7,8]])\n",
    "        goal = np.array([[0,1,2],[3,4,5],[6,7,8]])\n",
    "        self.assertEqual(heuristic_misplaced(state_test, goal), 3)\n",
    "    def test_parity_true(self):\n",
    "        state_test = np.array([[0,4,2],[1,3,5],[6,7,8]])\n",
    "        goal = np.array([[0,1,2],[3,4,5],[6,7,8]])\n",
    "        self.assertTrue(check_parity(state_test, goal))\n",
    "    def test_parity_false(self):\n",
    "        state_test = np.array([[0,2,1],[3,4,5],[6,7,8]])\n",
    "        goal = np.array([[0,1,2],[3,4,5],[6,7,8]])\n",
    "        self.assertFalse(check_parity(state_test, goal))\n",
    "    def test_adjacent(self):\n",
    "        state_test = np.array([[1,2,5],[3,0,4],[6,7,8]])\n",
    "        adjacent = adjacent_states(state_test)\n",
    "        adjacent_set = set()\n",
    "        for k in range(len(adjacent)):\n",
    "            adjacent_set.add(tuple(map(tuple,adjacent[k])))    \n",
    "        answer = {((1, 0, 5), (3, 2, 4), (6, 7, 8)),\n",
    "                  ((1, 2, 5), (0, 3, 4), (6, 7, 8)),\n",
    "                  ((1, 2, 5), (3, 4, 0), (6, 7, 8)),\n",
    "                  ((1, 2, 5), (3, 7, 4), (6, 0, 8))}\n",
    "        self.assertEqual(adjacent_set, answer)\n",
    "    def test_astar_8tile(self):\n",
    "        goal = np.array([[0,1,2],[3,4,5],[6,7,8]])\n",
    "        state_test = np.array([[1,4,2],[3,5,8],[6,7,0]])\n",
    "        moves, cost, nexp = astar_8tile(state_test, goal,state_graph=adjacent_states, heuristic=heuristic_manhattan, return_cost=True, return_nexp=True)\n",
    "        # make sure the path is in tuples\n",
    "        moves_tuple = []\n",
    "        for k in range(len(moves)):\n",
    "            moves_tuple.append(tuple(map(tuple, moves[k])))    \n",
    "        self.assertEqual(moves_tuple, [((1, 4, 2), (3, 5, 8), (6, 7, 0)), \n",
    "                                       ((1, 4, 2), (3, 5, 0), (6, 7, 8)), \n",
    "                                       ((1, 4, 2), (3, 0, 5), (6, 7, 8)), \n",
    "                                       ((1, 0, 2), (3, 4, 5), (6, 7, 8)), \n",
    "                                       ((0, 1, 2), (3, 4, 5), (6, 7, 8))])\n",
    "        self.assertEqual(cost, 4)\n",
    "        self.assertEqual(nexp, 5)\n",
    "    def test_generate1(self):\n",
    "        goal = np.array([[0,1,2],[3,4,5],[6,7,8]])\n",
    "        n_moves=15\n",
    "        puzzle, steps = generate_puzzle(goal, n_moves)\n",
    "        solution, cost, nexp = astar_search(puzzle, goal, heuristic_manhattan, return_cost=True, return_nexp=True)\n",
    "        self.assertTrue(cost<=n_moves)\n",
    "        self.assertTrue(len(solution)<=(n_moves+1) and len(solution)>0)\n",
    "    def test_generate2(self):\n",
    "        goal = np.array([[0,1,2],[3,4,5],[6,7,8]])\n",
    "        puzzle, steps = generate_puzzle(goal, n_moves=0)\n",
    "        self.assertTrue((puzzle==goal).all())\n"
   ]
  },
  {
   "cell_type": "markdown",
   "metadata": {},
   "source": [
    "[Back to top](#top)"
   ]
  },
  {
   "cell_type": "code",
   "execution_count": null,
   "metadata": {
    "collapsed": true
   },
   "outputs": [],
   "source": []
  }
 ],
 "metadata": {
  "kernelspec": {
   "display_name": "Python 3",
   "language": "python",
   "name": "python3"
  },
  "language_info": {
   "codemirror_mode": {
    "name": "ipython",
    "version": 3
   },
   "file_extension": ".py",
   "mimetype": "text/x-python",
   "name": "python",
   "nbconvert_exporter": "python",
   "pygments_lexer": "ipython3",
   "version": "3.6.3"
  }
 },
 "nbformat": 4,
 "nbformat_minor": 2
}
